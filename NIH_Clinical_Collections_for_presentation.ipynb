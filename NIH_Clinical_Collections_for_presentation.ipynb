{
 "cells": [
  {
   "cell_type": "markdown",
   "metadata": {},
   "source": [
    "# Anaconda:\n",
    "https://www.continuum.io/downloads\n",
    "\n",
    "All ipython and scipy packages can be downloaded from the Anaconda continuum. \n"
   ]
  },
  {
   "cell_type": "code",
   "execution_count": 3,
   "metadata": {
    "collapsed": true
   },
   "outputs": [],
   "source": [
    "import numpy as np\n",
    "import pandas as pd\n",
    "import matplotlib.pyplot as plt\n",
    "\n",
    "%matplotlib inline"
   ]
  },
  {
   "cell_type": "markdown",
   "metadata": {},
   "source": [
    "# jupyter magic\n",
    "\n",
    "command. 'tab' to look up all possible functions and methods.\n",
    "always type ? to see help.\n",
    "\n",
    "'esc' to exit to the command mode.\n",
    "then 'h' to look up jupyter commands.  \n"
   ]
  },
  {
   "cell_type": "code",
   "execution_count": 2,
   "metadata": {
    "collapsed": true
   },
   "outputs": [],
   "source": [
    "np?"
   ]
  },
  {
   "cell_type": "markdown",
   "metadata": {},
   "source": [
    "# Numpy crash course"
   ]
  },
  {
   "cell_type": "code",
   "execution_count": 60,
   "metadata": {
    "collapsed": true
   },
   "outputs": [],
   "source": [
    "odd = [1,3,5,7,9]"
   ]
  },
  {
   "cell_type": "code",
   "execution_count": 61,
   "metadata": {
    "collapsed": false
   },
   "outputs": [
    {
     "data": {
      "text/plain": [
       "[1, 3, 5, 7, 9]"
      ]
     },
     "execution_count": 61,
     "metadata": {},
     "output_type": "execute_result"
    }
   ],
   "source": [
    "odd"
   ]
  },
  {
   "cell_type": "code",
   "execution_count": 65,
   "metadata": {
    "collapsed": false
   },
   "outputs": [],
   "source": [
    "even =  [i+1 for i in odd]"
   ]
  },
  {
   "cell_type": "code",
   "execution_count": 66,
   "metadata": {
    "collapsed": false
   },
   "outputs": [
    {
     "data": {
      "text/plain": [
       "[2, 4, 6, 8, 10]"
      ]
     },
     "execution_count": 66,
     "metadata": {},
     "output_type": "execute_result"
    }
   ],
   "source": [
    "even"
   ]
  },
  {
   "cell_type": "code",
   "execution_count": 67,
   "metadata": {
    "collapsed": true
   },
   "outputs": [],
   "source": [
    "np_odd = np.array([1,3,5,7,9])"
   ]
  },
  {
   "cell_type": "code",
   "execution_count": 68,
   "metadata": {
    "collapsed": false
   },
   "outputs": [
    {
     "data": {
      "text/plain": [
       "array([1, 3, 5, 7, 9])"
      ]
     },
     "execution_count": 68,
     "metadata": {},
     "output_type": "execute_result"
    }
   ],
   "source": [
    "np_odd"
   ]
  },
  {
   "cell_type": "code",
   "execution_count": 69,
   "metadata": {
    "collapsed": false
   },
   "outputs": [
    {
     "data": {
      "text/plain": [
       "array([ 2,  4,  6,  8, 10])"
      ]
     },
     "execution_count": 69,
     "metadata": {},
     "output_type": "execute_result"
    }
   ],
   "source": [
    "np_even = np_odd +1\n",
    "np_even"
   ]
  },
  {
   "cell_type": "code",
   "execution_count": 70,
   "metadata": {
    "collapsed": false
   },
   "outputs": [
    {
     "data": {
      "text/plain": [
       "array([ 0.5       ,  0.75      ,  0.83333333,  0.875     ,  0.9       ])"
      ]
     },
     "execution_count": 70,
     "metadata": {},
     "output_type": "execute_result"
    }
   ],
   "source": [
    "np_odd/np_even"
   ]
  },
  {
   "cell_type": "code",
   "execution_count": 71,
   "metadata": {
    "collapsed": true
   },
   "outputs": [],
   "source": [
    "np_prime = np.array([2,3,5,7,11,13,17,19])"
   ]
  },
  {
   "cell_type": "code",
   "execution_count": 72,
   "metadata": {
    "collapsed": false
   },
   "outputs": [
    {
     "data": {
      "text/plain": [
       "array([ 2,  3,  5,  7, 11, 13, 17, 19])"
      ]
     },
     "execution_count": 72,
     "metadata": {},
     "output_type": "execute_result"
    }
   ],
   "source": [
    "np_prime"
   ]
  },
  {
   "cell_type": "code",
   "execution_count": 73,
   "metadata": {
    "collapsed": false
   },
   "outputs": [
    {
     "data": {
      "text/plain": [
       "array([1, 2, 2, 4, 2, 4, 2])"
      ]
     },
     "execution_count": 73,
     "metadata": {},
     "output_type": "execute_result"
    }
   ],
   "source": [
    "prime_dif = np_prime[1:]-np_prime[:-1]\n",
    "prime_dif"
   ]
  },
  {
   "cell_type": "markdown",
   "metadata": {},
   "source": [
    "# Brandon Rhodes's way to decorate pandas"
   ]
  },
  {
   "cell_type": "code",
   "execution_count": 57,
   "metadata": {
    "collapsed": false
   },
   "outputs": [
    {
     "data": {
      "text/html": [
       "<style>body {\n",
       "    margin: 0;\n",
       "    font-family: Helvetica;\n",
       "}\n",
       "table.dataframe {\n",
       "    border-collapse: collapse;\n",
       "    border: none;\n",
       "}\n",
       "table.dataframe tr {\n",
       "    border: none;\n",
       "}\n",
       "table.dataframe td, table.dataframe th {\n",
       "    margin: 0;\n",
       "    border: 1px solid white;\n",
       "    padding-left: 0.25em;\n",
       "    padding-right: 0.25em;\n",
       "}\n",
       "table.dataframe th:not(:empty) {\n",
       "    background-color: #fec;\n",
       "    text-align: left;\n",
       "    font-weight: normal;\n",
       "}\n",
       "table.dataframe tr:nth-child(2) th:empty {\n",
       "    border-left: none;\n",
       "    border-right: 1px dashed #888;\n",
       "}\n",
       "table.dataframe td {\n",
       "    border: 2px solid #ccf;\n",
       "    background-color: #f4f4ff;\n",
       "}h3 {\n",
       "    color: white;\n",
       "    background-color: black;\n",
       "    padding: 0.5em;\n",
       "}  </style>"
      ],
      "text/plain": [
       "<IPython.core.display.HTML object>"
      ]
     },
     "execution_count": 57,
     "metadata": {},
     "output_type": "execute_result"
    }
   ],
   "source": [
    "from IPython.core.display import HTML\n",
    "css = open('style-table.css').read() + open('style-notebook.css').read()\n",
    "HTML('<style>{}</style>'.format(css))"
   ]
  },
  {
   "cell_type": "markdown",
   "metadata": {},
   "source": [
    "# Load excel file to pandas"
   ]
  },
  {
   "cell_type": "code",
   "execution_count": 4,
   "metadata": {
    "collapsed": true
   },
   "outputs": [],
   "source": [
    "fileName = \"NIH_Clinical_Collections_I_and_II.xls\""
   ]
  },
  {
   "cell_type": "code",
   "execution_count": 5,
   "metadata": {
    "collapsed": false
   },
   "outputs": [],
   "source": [
    "xl = pd.ExcelFile(fileName)"
   ]
  },
  {
   "cell_type": "code",
   "execution_count": 7,
   "metadata": {
    "collapsed": false
   },
   "outputs": [
    {
     "data": {
      "text/plain": [
       "pandas.io.excel.ExcelFile"
      ]
     },
     "execution_count": 7,
     "metadata": {},
     "output_type": "execute_result"
    }
   ],
   "source": [
    "type(xl)"
   ]
  },
  {
   "cell_type": "code",
   "execution_count": 8,
   "metadata": {
    "collapsed": false
   },
   "outputs": [
    {
     "data": {
      "text/plain": [
       "['NIH Clinical Collections I and ']"
      ]
     },
     "execution_count": 8,
     "metadata": {},
     "output_type": "execute_result"
    }
   ],
   "source": [
    "xl.sheet_names"
   ]
  },
  {
   "cell_type": "code",
   "execution_count": 58,
   "metadata": {
    "collapsed": true
   },
   "outputs": [],
   "source": [
    "df = xl.parse('NIH Clinical Collections I and ')"
   ]
  },
  {
   "cell_type": "markdown",
   "metadata": {},
   "source": [
    "# pandas essentials:\n",
    ".head(), .tail(), .describe(), .columns, and file IO."
   ]
  },
  {
   "cell_type": "code",
   "execution_count": 59,
   "metadata": {
    "collapsed": false
   },
   "outputs": [
    {
     "data": {
      "text/html": [
       "<div>\n",
       "<table border=\"1\" class=\"dataframe\">\n",
       "  <thead>\n",
       "    <tr style=\"text-align: right;\">\n",
       "      <th></th>\n",
       "      <th>NCC_SAMPLE_ID</th>\n",
       "      <th>ISM</th>\n",
       "      <th>NCC_STRUCTURE_ID</th>\n",
       "      <th>STRUCTURE_REAL_MF</th>\n",
       "      <th>STRUCTURE_REAL_AMW</th>\n",
       "      <th>PARENT_AMW</th>\n",
       "      <th>PARENT_EMW</th>\n",
       "      <th>SAMPLE_SUPPLIER</th>\n",
       "      <th>SUPPLIER_STRUCTURE_ID</th>\n",
       "      <th>PUBCHEM_SID</th>\n",
       "      <th>STRUCTURE_SYNONYMS</th>\n",
       "      <th>SUPPLIER_SAMPLE_COMMENTS</th>\n",
       "      <th>SUPPLIER_SAMPLE_ID</th>\n",
       "    </tr>\n",
       "  </thead>\n",
       "  <tbody>\n",
       "    <tr>\n",
       "      <th>0</th>\n",
       "      <td>MLS001246523</td>\n",
       "      <td>CNCC[C@H](Oc1cccc2ccccc12)c3cccs3.Cl</td>\n",
       "      <td>SMR000469136</td>\n",
       "      <td>C18H19NOS.HCl</td>\n",
       "      <td>333.8770</td>\n",
       "      <td>297.4161</td>\n",
       "      <td>297.1187</td>\n",
       "      <td>Sequoia Research Products Ltd.</td>\n",
       "      <td>SRP05005d</td>\n",
       "      <td>46386541</td>\n",
       "      <td>DULOXETINE HCl</td>\n",
       "      <td>NaN</td>\n",
       "      <td>NaN</td>\n",
       "    </tr>\n",
       "    <tr>\n",
       "      <th>1</th>\n",
       "      <td>MLS001246524</td>\n",
       "      <td>CCCN1CCCC[C@H]1C(=O)Nc2c(C)cccc2C.Cl</td>\n",
       "      <td>SMR000469137</td>\n",
       "      <td>C17H26N2O.HCl</td>\n",
       "      <td>310.8687</td>\n",
       "      <td>274.4078</td>\n",
       "      <td>274.2045</td>\n",
       "      <td>Sequoia Research Products Ltd.</td>\n",
       "      <td>SRP01307r</td>\n",
       "      <td>46386542</td>\n",
       "      <td>ROPIVACAINE HCl</td>\n",
       "      <td>NaN</td>\n",
       "      <td>NaN</td>\n",
       "    </tr>\n",
       "    <tr>\n",
       "      <th>2</th>\n",
       "      <td>MLS001246525</td>\n",
       "      <td>CC(C)(C#N)c1cc(Cn2cncn2)cc(c1)C(C)(C)C#N</td>\n",
       "      <td>SMR000466301</td>\n",
       "      <td>C17H19N5</td>\n",
       "      <td>293.3725</td>\n",
       "      <td>293.3725</td>\n",
       "      <td>293.1640</td>\n",
       "      <td>Sequoia Research Products Ltd.</td>\n",
       "      <td>SRP05647a</td>\n",
       "      <td>46386543</td>\n",
       "      <td>ANASTROZOLE</td>\n",
       "      <td>NaN</td>\n",
       "      <td>NaN</td>\n",
       "    </tr>\n",
       "    <tr>\n",
       "      <th>3</th>\n",
       "      <td>MLS001246526</td>\n",
       "      <td>Nc1nc(Cl)nc2n(cnc12)[C@H]3C[C@H](O)[C@@H](CO)O3</td>\n",
       "      <td>SMR000058553</td>\n",
       "      <td>C10H12ClN5O3</td>\n",
       "      <td>285.6907</td>\n",
       "      <td>285.6907</td>\n",
       "      <td>285.0628</td>\n",
       "      <td>Sequoia Research Products Ltd.</td>\n",
       "      <td>SRP03655c</td>\n",
       "      <td>46386544</td>\n",
       "      <td>2-CHLORO-2'-DEOXYADENOSINE</td>\n",
       "      <td>NaN</td>\n",
       "      <td>NaN</td>\n",
       "    </tr>\n",
       "    <tr>\n",
       "      <th>4</th>\n",
       "      <td>MLS001246527</td>\n",
       "      <td>CN1[C@H]2CCC[C@@H]1C[C@@H](C2)NC(=O)c3nn(C)c4c...</td>\n",
       "      <td>SMR000469138</td>\n",
       "      <td>C18H24N4O.HCl</td>\n",
       "      <td>348.8771</td>\n",
       "      <td>312.4162</td>\n",
       "      <td>312.1950</td>\n",
       "      <td>Sequoia Research Products Ltd.</td>\n",
       "      <td>SRP02575g</td>\n",
       "      <td>46386545</td>\n",
       "      <td>GRANISETRON HCl</td>\n",
       "      <td>NaN</td>\n",
       "      <td>NaN</td>\n",
       "    </tr>\n",
       "  </tbody>\n",
       "</table>\n",
       "</div>"
      ],
      "text/plain": [
       "  NCC_SAMPLE_ID                                                ISM  \\\n",
       "0  MLS001246523               CNCC[C@H](Oc1cccc2ccccc12)c3cccs3.Cl   \n",
       "1  MLS001246524               CCCN1CCCC[C@H]1C(=O)Nc2c(C)cccc2C.Cl   \n",
       "2  MLS001246525           CC(C)(C#N)c1cc(Cn2cncn2)cc(c1)C(C)(C)C#N   \n",
       "3  MLS001246526    Nc1nc(Cl)nc2n(cnc12)[C@H]3C[C@H](O)[C@@H](CO)O3   \n",
       "4  MLS001246527  CN1[C@H]2CCC[C@@H]1C[C@@H](C2)NC(=O)c3nn(C)c4c...   \n",
       "\n",
       "  NCC_STRUCTURE_ID STRUCTURE_REAL_MF  STRUCTURE_REAL_AMW  PARENT_AMW  \\\n",
       "0     SMR000469136     C18H19NOS.HCl            333.8770    297.4161   \n",
       "1     SMR000469137     C17H26N2O.HCl            310.8687    274.4078   \n",
       "2     SMR000466301          C17H19N5            293.3725    293.3725   \n",
       "3     SMR000058553      C10H12ClN5O3            285.6907    285.6907   \n",
       "4     SMR000469138     C18H24N4O.HCl            348.8771    312.4162   \n",
       "\n",
       "   PARENT_EMW                 SAMPLE_SUPPLIER SUPPLIER_STRUCTURE_ID  \\\n",
       "0    297.1187  Sequoia Research Products Ltd.             SRP05005d   \n",
       "1    274.2045  Sequoia Research Products Ltd.             SRP01307r   \n",
       "2    293.1640  Sequoia Research Products Ltd.             SRP05647a   \n",
       "3    285.0628  Sequoia Research Products Ltd.             SRP03655c   \n",
       "4    312.1950  Sequoia Research Products Ltd.             SRP02575g   \n",
       "\n",
       "   PUBCHEM_SID          STRUCTURE_SYNONYMS SUPPLIER_SAMPLE_COMMENTS  \\\n",
       "0     46386541              DULOXETINE HCl                      NaN   \n",
       "1     46386542             ROPIVACAINE HCl                      NaN   \n",
       "2     46386543                 ANASTROZOLE                      NaN   \n",
       "3     46386544  2-CHLORO-2'-DEOXYADENOSINE                      NaN   \n",
       "4     46386545             GRANISETRON HCl                      NaN   \n",
       "\n",
       "  SUPPLIER_SAMPLE_ID  \n",
       "0                NaN  \n",
       "1                NaN  \n",
       "2                NaN  \n",
       "3                NaN  \n",
       "4                NaN  "
      ]
     },
     "execution_count": 59,
     "metadata": {},
     "output_type": "execute_result"
    }
   ],
   "source": [
    "df.head()\n"
   ]
  },
  {
   "cell_type": "code",
   "execution_count": 9,
   "metadata": {
    "collapsed": false
   },
   "outputs": [
    {
     "data": {
      "text/html": [
       "<div>\n",
       "<table border=\"1\" class=\"dataframe\">\n",
       "  <thead>\n",
       "    <tr style=\"text-align: right;\">\n",
       "      <th></th>\n",
       "      <th>NCC_SAMPLE_ID</th>\n",
       "      <th>ISM</th>\n",
       "      <th>NCC_STRUCTURE_ID</th>\n",
       "      <th>STRUCTURE_REAL_MF</th>\n",
       "      <th>STRUCTURE_REAL_AMW</th>\n",
       "      <th>PARENT_AMW</th>\n",
       "      <th>PARENT_EMW</th>\n",
       "      <th>SAMPLE_SUPPLIER</th>\n",
       "      <th>SUPPLIER_STRUCTURE_ID</th>\n",
       "      <th>PUBCHEM_SID</th>\n",
       "      <th>STRUCTURE_SYNONYMS</th>\n",
       "      <th>SUPPLIER_SAMPLE_COMMENTS</th>\n",
       "      <th>SUPPLIER_SAMPLE_ID</th>\n",
       "    </tr>\n",
       "  </thead>\n",
       "  <tbody>\n",
       "    <tr>\n",
       "      <th>721</th>\n",
       "      <td>MLS002703129</td>\n",
       "      <td>CC(Cc1ccc(O)c(O)c1)(NN)C(=O)O.O</td>\n",
       "      <td>SMR001566944</td>\n",
       "      <td>C10H14N2O4.H2O</td>\n",
       "      <td>244.2449</td>\n",
       "      <td>226.2296</td>\n",
       "      <td>226.0953</td>\n",
       "      <td>LightBiologicals</td>\n",
       "      <td>MZ-3023</td>\n",
       "      <td>104170225</td>\n",
       "      <td>CARBIDOPA, 38821-49-7</td>\n",
       "      <td>WHITE POWDER</td>\n",
       "      <td>.</td>\n",
       "    </tr>\n",
       "    <tr>\n",
       "      <th>722</th>\n",
       "      <td>MLS002703133</td>\n",
       "      <td>CCC(=C(c1ccccc1)c2ccc(OCCN(C)C)cc2)c3ccccc3</td>\n",
       "      <td>SMR001491671</td>\n",
       "      <td>C26H29NO</td>\n",
       "      <td>371.5155</td>\n",
       "      <td>371.5155</td>\n",
       "      <td>371.2249</td>\n",
       "      <td>LightBiologicals</td>\n",
       "      <td>MZ-3027</td>\n",
       "      <td>104170047</td>\n",
       "      <td>Tamoxifen, 10540-29-1</td>\n",
       "      <td>WHITE POWDER</td>\n",
       "      <td>.</td>\n",
       "    </tr>\n",
       "    <tr>\n",
       "      <th>723</th>\n",
       "      <td>MLS002703135</td>\n",
       "      <td>[O-]C1=NC(=O)CN1N=Cc2ccc(o2)c3ccc(cc3)[N+](=O)...</td>\n",
       "      <td>SMR000326766</td>\n",
       "      <td>C14H9N4O5.Na+</td>\n",
       "      <td>336.2396</td>\n",
       "      <td>313.2498</td>\n",
       "      <td>313.0572</td>\n",
       "      <td>LightBiologicals</td>\n",
       "      <td>MZ-3030</td>\n",
       "      <td>104170142</td>\n",
       "      <td>DantroleneÂ Sodium,</td>\n",
       "      <td>ORANGE POWDER</td>\n",
       "      <td>.</td>\n",
       "    </tr>\n",
       "    <tr>\n",
       "      <th>724</th>\n",
       "      <td>MLS002703137</td>\n",
       "      <td>Oc1ccc2C[C@H]3N(CC=C)CC[C@]4([C@H]5Oc1c24)[C@@...</td>\n",
       "      <td>SMR000058766</td>\n",
       "      <td>C19H21NO4.HCl</td>\n",
       "      <td>363.8422</td>\n",
       "      <td>327.3813</td>\n",
       "      <td>327.1470</td>\n",
       "      <td>LightBiologicals</td>\n",
       "      <td>MZ-3032</td>\n",
       "      <td>104170085</td>\n",
       "      <td>NALOXONE HYDROCHLORIDE,</td>\n",
       "      <td>WHITE POWDER</td>\n",
       "      <td>.</td>\n",
       "    </tr>\n",
       "    <tr>\n",
       "      <th>725</th>\n",
       "      <td>MLS003107541</td>\n",
       "      <td>Cc1ccc(cc1)N(CC2=NCCN2)c3ccc(O)cc3.Cl</td>\n",
       "      <td>SMR001819784</td>\n",
       "      <td>C17H19N3O.HCl</td>\n",
       "      <td>317.8131</td>\n",
       "      <td>281.3522</td>\n",
       "      <td>281.1528</td>\n",
       "      <td>LightBiologicals</td>\n",
       "      <td>MZ-3036</td>\n",
       "      <td>104170130</td>\n",
       "      <td>PhentolamineÂ Mono-hydrochloride, 73-05-2</td>\n",
       "      <td>WHITE POWDER</td>\n",
       "      <td>.</td>\n",
       "    </tr>\n",
       "  </tbody>\n",
       "</table>\n",
       "</div>"
      ],
      "text/plain": [
       "    NCC_SAMPLE_ID                                                ISM  \\\n",
       "721  MLS002703129                    CC(Cc1ccc(O)c(O)c1)(NN)C(=O)O.O   \n",
       "722  MLS002703133        CCC(=C(c1ccccc1)c2ccc(OCCN(C)C)cc2)c3ccccc3   \n",
       "723  MLS002703135  [O-]C1=NC(=O)CN1N=Cc2ccc(o2)c3ccc(cc3)[N+](=O)...   \n",
       "724  MLS002703137  Oc1ccc2C[C@H]3N(CC=C)CC[C@]4([C@H]5Oc1c24)[C@@...   \n",
       "725  MLS003107541              Cc1ccc(cc1)N(CC2=NCCN2)c3ccc(O)cc3.Cl   \n",
       "\n",
       "    NCC_STRUCTURE_ID STRUCTURE_REAL_MF  STRUCTURE_REAL_AMW  PARENT_AMW  \\\n",
       "721     SMR001566944    C10H14N2O4.H2O            244.2449    226.2296   \n",
       "722     SMR001491671          C26H29NO            371.5155    371.5155   \n",
       "723     SMR000326766     C14H9N4O5.Na+            336.2396    313.2498   \n",
       "724     SMR000058766     C19H21NO4.HCl            363.8422    327.3813   \n",
       "725     SMR001819784     C17H19N3O.HCl            317.8131    281.3522   \n",
       "\n",
       "     PARENT_EMW   SAMPLE_SUPPLIER SUPPLIER_STRUCTURE_ID  PUBCHEM_SID  \\\n",
       "721    226.0953  LightBiologicals               MZ-3023    104170225   \n",
       "722    371.2249  LightBiologicals               MZ-3027    104170047   \n",
       "723    313.0572  LightBiologicals               MZ-3030    104170142   \n",
       "724    327.1470  LightBiologicals               MZ-3032    104170085   \n",
       "725    281.1528  LightBiologicals               MZ-3036    104170130   \n",
       "\n",
       "                            STRUCTURE_SYNONYMS SUPPLIER_SAMPLE_COMMENTS  \\\n",
       "721                      CARBIDOPA, 38821-49-7             WHITE POWDER   \n",
       "722                      Tamoxifen, 10540-29-1             WHITE POWDER   \n",
       "723                        DantroleneÂ Sodium,            ORANGE POWDER   \n",
       "724                    NALOXONE HYDROCHLORIDE,             WHITE POWDER   \n",
       "725  PhentolamineÂ Mono-hydrochloride, 73-05-2             WHITE POWDER   \n",
       "\n",
       "    SUPPLIER_SAMPLE_ID  \n",
       "721                  .  \n",
       "722                  .  \n",
       "723                  .  \n",
       "724                  .  \n",
       "725                  .  "
      ]
     },
     "execution_count": 9,
     "metadata": {},
     "output_type": "execute_result"
    }
   ],
   "source": [
    "df.tail()"
   ]
  },
  {
   "cell_type": "code",
   "execution_count": 12,
   "metadata": {
    "collapsed": false
   },
   "outputs": [
    {
     "data": {
      "text/html": [
       "<div>\n",
       "<table border=\"1\" class=\"dataframe\">\n",
       "  <thead>\n",
       "    <tr style=\"text-align: right;\">\n",
       "      <th></th>\n",
       "      <th>STRUCTURE_REAL_AMW</th>\n",
       "      <th>PARENT_AMW</th>\n",
       "      <th>PARENT_EMW</th>\n",
       "      <th>PUBCHEM_SID</th>\n",
       "    </tr>\n",
       "  </thead>\n",
       "  <tbody>\n",
       "    <tr>\n",
       "      <th>count</th>\n",
       "      <td>726.000000</td>\n",
       "      <td>726.000000</td>\n",
       "      <td>726.000000</td>\n",
       "      <td>7.260000e+02</td>\n",
       "    </tr>\n",
       "    <tr>\n",
       "      <th>mean</th>\n",
       "      <td>365.423340</td>\n",
       "      <td>340.481050</td>\n",
       "      <td>340.126161</td>\n",
       "      <td>6.875210e+07</td>\n",
       "    </tr>\n",
       "    <tr>\n",
       "      <th>std</th>\n",
       "      <td>150.342271</td>\n",
       "      <td>138.973446</td>\n",
       "      <td>138.871981</td>\n",
       "      <td>2.816413e+07</td>\n",
       "    </tr>\n",
       "    <tr>\n",
       "      <th>min</th>\n",
       "      <td>102.093200</td>\n",
       "      <td>102.093200</td>\n",
       "      <td>102.042900</td>\n",
       "      <td>4.638654e+07</td>\n",
       "    </tr>\n",
       "    <tr>\n",
       "      <th>25%</th>\n",
       "      <td>273.558150</td>\n",
       "      <td>256.543075</td>\n",
       "      <td>256.361800</td>\n",
       "      <td>4.638673e+07</td>\n",
       "    </tr>\n",
       "    <tr>\n",
       "      <th>50%</th>\n",
       "      <td>343.047950</td>\n",
       "      <td>316.924950</td>\n",
       "      <td>316.577750</td>\n",
       "      <td>4.638694e+07</td>\n",
       "    </tr>\n",
       "    <tr>\n",
       "      <th>75%</th>\n",
       "      <td>424.053050</td>\n",
       "      <td>395.174375</td>\n",
       "      <td>394.824150</td>\n",
       "      <td>1.041700e+08</td>\n",
       "    </tr>\n",
       "    <tr>\n",
       "      <th>max</th>\n",
       "      <td>1329.485200</td>\n",
       "      <td>1269.433200</td>\n",
       "      <td>1268.641400</td>\n",
       "      <td>1.041702e+08</td>\n",
       "    </tr>\n",
       "  </tbody>\n",
       "</table>\n",
       "</div>"
      ],
      "text/plain": [
       "       STRUCTURE_REAL_AMW   PARENT_AMW   PARENT_EMW   PUBCHEM_SID\n",
       "count          726.000000   726.000000   726.000000  7.260000e+02\n",
       "mean           365.423340   340.481050   340.126161  6.875210e+07\n",
       "std            150.342271   138.973446   138.871981  2.816413e+07\n",
       "min            102.093200   102.093200   102.042900  4.638654e+07\n",
       "25%            273.558150   256.543075   256.361800  4.638673e+07\n",
       "50%            343.047950   316.924950   316.577750  4.638694e+07\n",
       "75%            424.053050   395.174375   394.824150  1.041700e+08\n",
       "max           1329.485200  1269.433200  1268.641400  1.041702e+08"
      ]
     },
     "execution_count": 12,
     "metadata": {},
     "output_type": "execute_result"
    }
   ],
   "source": [
    "df.describe()"
   ]
  },
  {
   "cell_type": "code",
   "execution_count": 10,
   "metadata": {
    "collapsed": false
   },
   "outputs": [
    {
     "data": {
      "text/plain": [
       "726"
      ]
     },
     "execution_count": 10,
     "metadata": {},
     "output_type": "execute_result"
    }
   ],
   "source": [
    "len(df)"
   ]
  },
  {
   "cell_type": "code",
   "execution_count": 23,
   "metadata": {
    "collapsed": false
   },
   "outputs": [
    {
     "data": {
      "text/plain": [
       "Index(['NCC_SAMPLE_ID', 'ISM', 'NCC_STRUCTURE_ID', 'STRUCTURE_REAL_MF',\n",
       "       'STRUCTURE_REAL_AMW', 'PARENT_AMW', 'PARENT_EMW', 'SAMPLE_SUPPLIER',\n",
       "       'SUPPLIER_STRUCTURE_ID', 'PUBCHEM_SID', 'STRUCTURE_SYNONYMS',\n",
       "       'SUPPLIER_SAMPLE_COMMENTS', 'SUPPLIER_SAMPLE_ID'],\n",
       "      dtype='object')"
      ]
     },
     "execution_count": 23,
     "metadata": {},
     "output_type": "execute_result"
    }
   ],
   "source": [
    "df.columns"
   ]
  },
  {
   "cell_type": "code",
   "execution_count": 24,
   "metadata": {
    "collapsed": true
   },
   "outputs": [],
   "source": [
    "df.to_csv(\"NIH_Clinical_collection.csv\")"
   ]
  },
  {
   "cell_type": "code",
   "execution_count": 25,
   "metadata": {
    "collapsed": true
   },
   "outputs": [],
   "source": [
    "df2 = pd.read_csv(\"NIH_Clinical_collection.csv\")"
   ]
  },
  {
   "cell_type": "code",
   "execution_count": 26,
   "metadata": {
    "collapsed": false
   },
   "outputs": [
    {
     "data": {
      "text/html": [
       "<div>\n",
       "<table border=\"1\" class=\"dataframe\">\n",
       "  <thead>\n",
       "    <tr style=\"text-align: right;\">\n",
       "      <th></th>\n",
       "      <th>Unnamed: 0</th>\n",
       "      <th>NCC_SAMPLE_ID</th>\n",
       "      <th>ISM</th>\n",
       "      <th>NCC_STRUCTURE_ID</th>\n",
       "      <th>STRUCTURE_REAL_MF</th>\n",
       "      <th>STRUCTURE_REAL_AMW</th>\n",
       "      <th>PARENT_AMW</th>\n",
       "      <th>PARENT_EMW</th>\n",
       "      <th>SAMPLE_SUPPLIER</th>\n",
       "      <th>SUPPLIER_STRUCTURE_ID</th>\n",
       "      <th>PUBCHEM_SID</th>\n",
       "      <th>STRUCTURE_SYNONYMS</th>\n",
       "      <th>SUPPLIER_SAMPLE_COMMENTS</th>\n",
       "      <th>SUPPLIER_SAMPLE_ID</th>\n",
       "    </tr>\n",
       "  </thead>\n",
       "  <tbody>\n",
       "    <tr>\n",
       "      <th>0</th>\n",
       "      <td>0</td>\n",
       "      <td>MLS001246523</td>\n",
       "      <td>CNCC[C@H](Oc1cccc2ccccc12)c3cccs3.Cl</td>\n",
       "      <td>SMR000469136</td>\n",
       "      <td>C18H19NOS.HCl</td>\n",
       "      <td>333.8770</td>\n",
       "      <td>297.4161</td>\n",
       "      <td>297.1187</td>\n",
       "      <td>Sequoia Research Products Ltd.</td>\n",
       "      <td>SRP05005d</td>\n",
       "      <td>46386541</td>\n",
       "      <td>DULOXETINE HCl</td>\n",
       "      <td>NaN</td>\n",
       "      <td>NaN</td>\n",
       "    </tr>\n",
       "    <tr>\n",
       "      <th>1</th>\n",
       "      <td>1</td>\n",
       "      <td>MLS001246524</td>\n",
       "      <td>CCCN1CCCC[C@H]1C(=O)Nc2c(C)cccc2C.Cl</td>\n",
       "      <td>SMR000469137</td>\n",
       "      <td>C17H26N2O.HCl</td>\n",
       "      <td>310.8687</td>\n",
       "      <td>274.4078</td>\n",
       "      <td>274.2045</td>\n",
       "      <td>Sequoia Research Products Ltd.</td>\n",
       "      <td>SRP01307r</td>\n",
       "      <td>46386542</td>\n",
       "      <td>ROPIVACAINE HCl</td>\n",
       "      <td>NaN</td>\n",
       "      <td>NaN</td>\n",
       "    </tr>\n",
       "    <tr>\n",
       "      <th>2</th>\n",
       "      <td>2</td>\n",
       "      <td>MLS001246525</td>\n",
       "      <td>CC(C)(C#N)c1cc(Cn2cncn2)cc(c1)C(C)(C)C#N</td>\n",
       "      <td>SMR000466301</td>\n",
       "      <td>C17H19N5</td>\n",
       "      <td>293.3725</td>\n",
       "      <td>293.3725</td>\n",
       "      <td>293.1640</td>\n",
       "      <td>Sequoia Research Products Ltd.</td>\n",
       "      <td>SRP05647a</td>\n",
       "      <td>46386543</td>\n",
       "      <td>ANASTROZOLE</td>\n",
       "      <td>NaN</td>\n",
       "      <td>NaN</td>\n",
       "    </tr>\n",
       "    <tr>\n",
       "      <th>3</th>\n",
       "      <td>3</td>\n",
       "      <td>MLS001246526</td>\n",
       "      <td>Nc1nc(Cl)nc2n(cnc12)[C@H]3C[C@H](O)[C@@H](CO)O3</td>\n",
       "      <td>SMR000058553</td>\n",
       "      <td>C10H12ClN5O3</td>\n",
       "      <td>285.6907</td>\n",
       "      <td>285.6907</td>\n",
       "      <td>285.0628</td>\n",
       "      <td>Sequoia Research Products Ltd.</td>\n",
       "      <td>SRP03655c</td>\n",
       "      <td>46386544</td>\n",
       "      <td>2-CHLORO-2'-DEOXYADENOSINE</td>\n",
       "      <td>NaN</td>\n",
       "      <td>NaN</td>\n",
       "    </tr>\n",
       "    <tr>\n",
       "      <th>4</th>\n",
       "      <td>4</td>\n",
       "      <td>MLS001246527</td>\n",
       "      <td>CN1[C@H]2CCC[C@@H]1C[C@@H](C2)NC(=O)c3nn(C)c4c...</td>\n",
       "      <td>SMR000469138</td>\n",
       "      <td>C18H24N4O.HCl</td>\n",
       "      <td>348.8771</td>\n",
       "      <td>312.4162</td>\n",
       "      <td>312.1950</td>\n",
       "      <td>Sequoia Research Products Ltd.</td>\n",
       "      <td>SRP02575g</td>\n",
       "      <td>46386545</td>\n",
       "      <td>GRANISETRON HCl</td>\n",
       "      <td>NaN</td>\n",
       "      <td>NaN</td>\n",
       "    </tr>\n",
       "  </tbody>\n",
       "</table>\n",
       "</div>"
      ],
      "text/plain": [
       "   Unnamed: 0 NCC_SAMPLE_ID  \\\n",
       "0           0  MLS001246523   \n",
       "1           1  MLS001246524   \n",
       "2           2  MLS001246525   \n",
       "3           3  MLS001246526   \n",
       "4           4  MLS001246527   \n",
       "\n",
       "                                                 ISM NCC_STRUCTURE_ID  \\\n",
       "0               CNCC[C@H](Oc1cccc2ccccc12)c3cccs3.Cl     SMR000469136   \n",
       "1               CCCN1CCCC[C@H]1C(=O)Nc2c(C)cccc2C.Cl     SMR000469137   \n",
       "2           CC(C)(C#N)c1cc(Cn2cncn2)cc(c1)C(C)(C)C#N     SMR000466301   \n",
       "3    Nc1nc(Cl)nc2n(cnc12)[C@H]3C[C@H](O)[C@@H](CO)O3     SMR000058553   \n",
       "4  CN1[C@H]2CCC[C@@H]1C[C@@H](C2)NC(=O)c3nn(C)c4c...     SMR000469138   \n",
       "\n",
       "  STRUCTURE_REAL_MF  STRUCTURE_REAL_AMW  PARENT_AMW  PARENT_EMW  \\\n",
       "0     C18H19NOS.HCl            333.8770    297.4161    297.1187   \n",
       "1     C17H26N2O.HCl            310.8687    274.4078    274.2045   \n",
       "2          C17H19N5            293.3725    293.3725    293.1640   \n",
       "3      C10H12ClN5O3            285.6907    285.6907    285.0628   \n",
       "4     C18H24N4O.HCl            348.8771    312.4162    312.1950   \n",
       "\n",
       "                  SAMPLE_SUPPLIER SUPPLIER_STRUCTURE_ID  PUBCHEM_SID  \\\n",
       "0  Sequoia Research Products Ltd.             SRP05005d     46386541   \n",
       "1  Sequoia Research Products Ltd.             SRP01307r     46386542   \n",
       "2  Sequoia Research Products Ltd.             SRP05647a     46386543   \n",
       "3  Sequoia Research Products Ltd.             SRP03655c     46386544   \n",
       "4  Sequoia Research Products Ltd.             SRP02575g     46386545   \n",
       "\n",
       "           STRUCTURE_SYNONYMS SUPPLIER_SAMPLE_COMMENTS SUPPLIER_SAMPLE_ID  \n",
       "0              DULOXETINE HCl                      NaN                NaN  \n",
       "1             ROPIVACAINE HCl                      NaN                NaN  \n",
       "2                 ANASTROZOLE                      NaN                NaN  \n",
       "3  2-CHLORO-2'-DEOXYADENOSINE                      NaN                NaN  \n",
       "4             GRANISETRON HCl                      NaN                NaN  "
      ]
     },
     "execution_count": 26,
     "metadata": {},
     "output_type": "execute_result"
    }
   ],
   "source": [
    "df2.head()"
   ]
  },
  {
   "cell_type": "markdown",
   "metadata": {},
   "source": [
    "# Pandas: series, dataframe and panel\n",
    "\n",
    "Series: One dimensional dataset, similar to numpy array with special index.  It is similar to one column of your excel document. \n",
    "\n",
    "DataFrame:  Two dimensional dataset, equivalent a csv file or one sheet of your excel document.  This is the most frequently used data format in Pandas, and we will talk mainly about this format. \n",
    "\n",
    "\n",
    "Panel:  Three dimensional dataset combined multiple dataframes into one format.  Conceptually it is similar to an excel document with multiple sheets.  This data format is useful but less popular than dataframe.  \n"
   ]
  },
  {
   "cell_type": "code",
   "execution_count": 75,
   "metadata": {
    "collapsed": false
   },
   "outputs": [
    {
     "data": {
      "text/plain": [
       "pandas.core.frame.DataFrame"
      ]
     },
     "execution_count": 75,
     "metadata": {},
     "output_type": "execute_result"
    }
   ],
   "source": [
    "type(df)"
   ]
  },
  {
   "cell_type": "code",
   "execution_count": 27,
   "metadata": {
    "collapsed": false
   },
   "outputs": [
    {
     "data": {
      "text/plain": [
       "NCC_SAMPLE_ID                                           MLS001246525\n",
       "ISM                         CC(C)(C#N)c1cc(Cn2cncn2)cc(c1)C(C)(C)C#N\n",
       "NCC_STRUCTURE_ID                                        SMR000466301\n",
       "STRUCTURE_REAL_MF                                           C17H19N5\n",
       "STRUCTURE_REAL_AMW                                           293.373\n",
       "PARENT_AMW                                                   293.373\n",
       "PARENT_EMW                                                   293.164\n",
       "SAMPLE_SUPPLIER                       Sequoia Research Products Ltd.\n",
       "SUPPLIER_STRUCTURE_ID                                      SRP05647a\n",
       "PUBCHEM_SID                                                 46386543\n",
       "STRUCTURE_SYNONYMS                                       ANASTROZOLE\n",
       "SUPPLIER_SAMPLE_COMMENTS                                         NaN\n",
       "SUPPLIER_SAMPLE_ID                                               NaN\n",
       "Name: 2, dtype: object"
      ]
     },
     "execution_count": 27,
     "metadata": {},
     "output_type": "execute_result"
    }
   ],
   "source": [
    "df.loc[2]"
   ]
  },
  {
   "cell_type": "code",
   "execution_count": 85,
   "metadata": {
    "collapsed": false
   },
   "outputs": [
    {
     "data": {
      "text/plain": [
       "pandas.core.series.Series"
      ]
     },
     "execution_count": 85,
     "metadata": {},
     "output_type": "execute_result"
    }
   ],
   "source": [
    "type(df.loc[2])"
   ]
  },
  {
   "cell_type": "code",
   "execution_count": 78,
   "metadata": {
    "collapsed": false
   },
   "outputs": [
    {
     "data": {
      "text/plain": [
       "0                   CNCC[C@H](Oc1cccc2ccccc12)c3cccs3.Cl\n",
       "1                   CCCN1CCCC[C@H]1C(=O)Nc2c(C)cccc2C.Cl\n",
       "2               CC(C)(C#N)c1cc(Cn2cncn2)cc(c1)C(C)(C)C#N\n",
       "3        Nc1nc(Cl)nc2n(cnc12)[C@H]3C[C@H](O)[C@@H](CO)O3\n",
       "4      CN1[C@H]2CCC[C@@H]1C[C@@H](C2)NC(=O)c3nn(C)c4c...\n",
       "5      C[C@@H]1O[C@@H](OC[C@H]2O[C@@H](Oc3c(oc4cc(O)c...\n",
       "6       OC(=O)c1cc(N=Nc2ccc(cc2)S(=O)(=O)Nc3ccccn3)ccc1O\n",
       "7      CCO/C(=C\\1/C(C(=C(C)N=C1C)C(=O)OC)c2cccc(c2)[N...\n",
       "8      CCOC(=O)C1(CCN(CCC(C#N)(c2ccccc2)c3ccccc3)CC1)...\n",
       "9                    COC(=O)CCc1ccc(OCC(O)CNC(C)C)cc1.Cl\n",
       "10     COc1ccccc1OCC(O)CN2CCN(CC(=O)Nc3c(C)cccc3C)CC2.Cl\n",
       "11                   CN1C(=O)CN=C(c2ccccc2)c3cc(Cl)ccc13\n",
       "12     COc1ccc2n([Mg]n3c(nc4cc(OC)ccc34)S(=O)Cc5ncc(C...\n",
       "13                              CC[C@H](N1CCCC1=O)C(=O)N\n",
       "14                           CCCN[C@H]1CCc2nc(N)sc2C1.Cl\n",
       "15     CC(C)(C)NC(=O)[C@H]1CC[C@H]2[C@@H]3CC[C@H]4NC(...\n",
       "16            COc1ccc(cc1OC)C(=O)NCc2ccc(OCCN(C)C)cc2.Cl\n",
       "17           Cc1c(CS(=O)c2nc3ccccc3[nH]2)nccc1OCC(F)(F)F\n",
       "18                    Clc1ccc2C(=C3CCNCC3)c4ncccc4CCc2c1\n",
       "19     CCOc1cc(CC(=O)N[C@@H](CC(C)C)c2ccccc2N3CCCCC3)...\n",
       "20              CC(=O)OCC(=O)NCCCOc1cccc(CN2CCCCC2)c1.Cl\n",
       "21     CCCCC1=NC2(CCCC2)C(=O)N1Cc3ccc(cc3)c4ccccc4c5n...\n",
       "22     CN(C)C(=O)Cc1c(nc2ccc(C)cn12)c3ccc(C)cc3.OC(C(...\n",
       "23                     Cc1ccnc2N(C3CC3)c4ncccc4C(=O)Nc12\n",
       "24     CC1(C)C[C@@H]1C(=O)N/C(=C\\CCCCSC[C@H](N)C(=O)O...\n",
       "25     CC(C)[C@@]12O[C@H]2[C@@H]3O[C@]34[C@]5(O[C@H]5...\n",
       "26     COCc1c(nc(C(C)C)c(/C=C/[C@@H](O)C[C@@H](O)CC(=...\n",
       "27     CC[C@]1(O)CC[C@H]2[C@@H]3CCC4=CCCC[C@@H]4[C@H]...\n",
       "28     CN(C)CC[C@@H](c1ccc(Br)cc1)c2ccccn2.OC(=O)/C=C...\n",
       "29     CN(C)CC[C@@H](c1ccc(Cl)cc1)c2ccccn2.OC(=O)/C=C...\n",
       "                             ...                        \n",
       "696          OC(=O)COCCN1CCN(CC1)C(c2ccccc2)c3ccc(Cl)cc3\n",
       "697    Cc1onc(c1C(=O)N[C@H]2[C@H]3SC(C)(C)[C@@H](N3C2...\n",
       "698      CN1/C(=C(/O)\\c2ccccc2S1(=O)=O)/C(=O)Nc3ncc(C)s3\n",
       "699    COc1cccc2C(=O)c3c(O)c4C[C@](O)(C[C@H](OC5CC(N)...\n",
       "700                  Nc1ccn([C@@H]2CS[C@H](CO)O2)c(=O)n1\n",
       "701     Cc1ccc(cc1)c2cc(nn2c3ccc(cc3)S(=O)(=O)N)C(F)(F)F\n",
       "702                       NCc1ccc(cc1)S(=O)(=O)N.CC(=O)O\n",
       "703    CN(C)S(=O)(=O)c1ccc2Sc3ccccc3\\C(=C\\CCN4CCNCC4)...\n",
       "704    CON=C(C(=O)NC1C2SCC(=C(N2C1=O)C(=O)[O-])COC(=O...\n",
       "705                       CC(C)NCC(O)COc1cccc2ccccc12.Cl\n",
       "706                       CC1(CC2CC3(C)C1)CC(N)(C2)C3.Cl\n",
       "707                                CNCC(O)c1ccc(O)c(O)c1\n",
       "708    C[C@H]1C[C@H]2[C@@H]3CC[C@](O)(C(=O)COC(=O)C)[...\n",
       "709    O[C@H]([C@H]1CCCCN1)c2cc(nc3c(cccc23)C(F)(F)F)...\n",
       "710    CCC(=O)OCC(=O)[C@@]1(OC(=O)CC)[C@@H](C)C[C@H]2...\n",
       "711    OCCNCCNc1ccc(NCCNCCO)c2C(=O)c3c(O)ccc(O)c3C(=O...\n",
       "712    CCOC(=O)[C@@H](CCc1ccccc1)N[C@@H](C)C(=O)N2CCC...\n",
       "713    CCCC1O[C@@H]2C[C@H]3[C@@H]4CCC5=CC(=O)C=C[C@]5...\n",
       "714    CCOC(=O)[C@H](CCc1ccccc1)N[C@@H](C)C(=O)N2[C@@...\n",
       "715                              NCC(O)c1ccc(O)c(O)c1.Cl\n",
       "716    CC(=O)OCC(=O)C12OC3(CCCC3)OC2CC4C5CCC6=CC(=O)C...\n",
       "717    CCN(CC)CCOc1ccc(cc1)C(=C(Cl)c2ccccc2)c3ccccc3....\n",
       "718    CC(C)(C(=O)O)c1ccc(cc1)C(O)CCCN2CCC(CC2)C(O)(c...\n",
       "719    CC1CC2C3CCC(O)(C(=O)C)C3(C)CC(O)C2(F)C4(C)C=CC...\n",
       "720       CN[C@H]1CC[C@@H](c2ccc(Cl)c(Cl)c2)c3ccccc13.Cl\n",
       "721                      CC(Cc1ccc(O)c(O)c1)(NN)C(=O)O.O\n",
       "722          CCC(=C(c1ccccc1)c2ccc(OCCN(C)C)cc2)c3ccccc3\n",
       "723    [O-]C1=NC(=O)CN1N=Cc2ccc(o2)c3ccc(cc3)[N+](=O)...\n",
       "724    Oc1ccc2C[C@H]3N(CC=C)CC[C@]4([C@H]5Oc1c24)[C@@...\n",
       "725                Cc1ccc(cc1)N(CC2=NCCN2)c3ccc(O)cc3.Cl\n",
       "Name: ISM, dtype: object"
      ]
     },
     "execution_count": 78,
     "metadata": {},
     "output_type": "execute_result"
    }
   ],
   "source": [
    "df[\"ISM\"]"
   ]
  },
  {
   "cell_type": "code",
   "execution_count": 86,
   "metadata": {
    "collapsed": false
   },
   "outputs": [
    {
     "data": {
      "text/plain": [
       "pandas.core.series.Series"
      ]
     },
     "execution_count": 86,
     "metadata": {},
     "output_type": "execute_result"
    }
   ],
   "source": [
    "type(df[\"ISM\"])"
   ]
  },
  {
   "cell_type": "code",
   "execution_count": 28,
   "metadata": {
    "collapsed": false
   },
   "outputs": [
    {
     "data": {
      "text/html": [
       "<div>\n",
       "<table border=\"1\" class=\"dataframe\">\n",
       "  <thead>\n",
       "    <tr style=\"text-align: right;\">\n",
       "      <th></th>\n",
       "      <th>NCC_SAMPLE_ID</th>\n",
       "      <th>ISM</th>\n",
       "      <th>NCC_STRUCTURE_ID</th>\n",
       "      <th>STRUCTURE_REAL_MF</th>\n",
       "      <th>STRUCTURE_REAL_AMW</th>\n",
       "      <th>PARENT_AMW</th>\n",
       "      <th>PARENT_EMW</th>\n",
       "      <th>SAMPLE_SUPPLIER</th>\n",
       "      <th>SUPPLIER_STRUCTURE_ID</th>\n",
       "      <th>PUBCHEM_SID</th>\n",
       "      <th>STRUCTURE_SYNONYMS</th>\n",
       "      <th>SUPPLIER_SAMPLE_COMMENTS</th>\n",
       "      <th>SUPPLIER_SAMPLE_ID</th>\n",
       "    </tr>\n",
       "  </thead>\n",
       "  <tbody>\n",
       "    <tr>\n",
       "      <th>2</th>\n",
       "      <td>MLS001246525</td>\n",
       "      <td>CC(C)(C#N)c1cc(Cn2cncn2)cc(c1)C(C)(C)C#N</td>\n",
       "      <td>SMR000466301</td>\n",
       "      <td>C17H19N5</td>\n",
       "      <td>293.3725</td>\n",
       "      <td>293.3725</td>\n",
       "      <td>293.1640</td>\n",
       "      <td>Sequoia Research Products Ltd.</td>\n",
       "      <td>SRP05647a</td>\n",
       "      <td>46386543</td>\n",
       "      <td>ANASTROZOLE</td>\n",
       "      <td>NaN</td>\n",
       "      <td>NaN</td>\n",
       "    </tr>\n",
       "    <tr>\n",
       "      <th>3</th>\n",
       "      <td>MLS001246526</td>\n",
       "      <td>Nc1nc(Cl)nc2n(cnc12)[C@H]3C[C@H](O)[C@@H](CO)O3</td>\n",
       "      <td>SMR000058553</td>\n",
       "      <td>C10H12ClN5O3</td>\n",
       "      <td>285.6907</td>\n",
       "      <td>285.6907</td>\n",
       "      <td>285.0628</td>\n",
       "      <td>Sequoia Research Products Ltd.</td>\n",
       "      <td>SRP03655c</td>\n",
       "      <td>46386544</td>\n",
       "      <td>2-CHLORO-2'-DEOXYADENOSINE</td>\n",
       "      <td>NaN</td>\n",
       "      <td>NaN</td>\n",
       "    </tr>\n",
       "    <tr>\n",
       "      <th>4</th>\n",
       "      <td>MLS001246527</td>\n",
       "      <td>CN1[C@H]2CCC[C@@H]1C[C@@H](C2)NC(=O)c3nn(C)c4c...</td>\n",
       "      <td>SMR000469138</td>\n",
       "      <td>C18H24N4O.HCl</td>\n",
       "      <td>348.8771</td>\n",
       "      <td>312.4162</td>\n",
       "      <td>312.1950</td>\n",
       "      <td>Sequoia Research Products Ltd.</td>\n",
       "      <td>SRP02575g</td>\n",
       "      <td>46386545</td>\n",
       "      <td>GRANISETRON HCl</td>\n",
       "      <td>NaN</td>\n",
       "      <td>NaN</td>\n",
       "    </tr>\n",
       "    <tr>\n",
       "      <th>5</th>\n",
       "      <td>MLS001246528</td>\n",
       "      <td>C[C@@H]1O[C@@H](OC[C@H]2O[C@@H](Oc3c(oc4cc(O)c...</td>\n",
       "      <td>SMR000112560</td>\n",
       "      <td>C27H30O16</td>\n",
       "      <td>610.5274</td>\n",
       "      <td>610.5274</td>\n",
       "      <td>610.1533</td>\n",
       "      <td>Sequoia Research Products Ltd.</td>\n",
       "      <td>SRP01350r</td>\n",
       "      <td>46386546</td>\n",
       "      <td>RUTIN</td>\n",
       "      <td>NaN</td>\n",
       "      <td>NaN</td>\n",
       "    </tr>\n",
       "  </tbody>\n",
       "</table>\n",
       "</div>"
      ],
      "text/plain": [
       "  NCC_SAMPLE_ID                                                ISM  \\\n",
       "2  MLS001246525           CC(C)(C#N)c1cc(Cn2cncn2)cc(c1)C(C)(C)C#N   \n",
       "3  MLS001246526    Nc1nc(Cl)nc2n(cnc12)[C@H]3C[C@H](O)[C@@H](CO)O3   \n",
       "4  MLS001246527  CN1[C@H]2CCC[C@@H]1C[C@@H](C2)NC(=O)c3nn(C)c4c...   \n",
       "5  MLS001246528  C[C@@H]1O[C@@H](OC[C@H]2O[C@@H](Oc3c(oc4cc(O)c...   \n",
       "\n",
       "  NCC_STRUCTURE_ID STRUCTURE_REAL_MF  STRUCTURE_REAL_AMW  PARENT_AMW  \\\n",
       "2     SMR000466301          C17H19N5            293.3725    293.3725   \n",
       "3     SMR000058553      C10H12ClN5O3            285.6907    285.6907   \n",
       "4     SMR000469138     C18H24N4O.HCl            348.8771    312.4162   \n",
       "5     SMR000112560         C27H30O16            610.5274    610.5274   \n",
       "\n",
       "   PARENT_EMW                 SAMPLE_SUPPLIER SUPPLIER_STRUCTURE_ID  \\\n",
       "2    293.1640  Sequoia Research Products Ltd.             SRP05647a   \n",
       "3    285.0628  Sequoia Research Products Ltd.             SRP03655c   \n",
       "4    312.1950  Sequoia Research Products Ltd.             SRP02575g   \n",
       "5    610.1533  Sequoia Research Products Ltd.             SRP01350r   \n",
       "\n",
       "   PUBCHEM_SID          STRUCTURE_SYNONYMS SUPPLIER_SAMPLE_COMMENTS  \\\n",
       "2     46386543                 ANASTROZOLE                      NaN   \n",
       "3     46386544  2-CHLORO-2'-DEOXYADENOSINE                      NaN   \n",
       "4     46386545             GRANISETRON HCl                      NaN   \n",
       "5     46386546                       RUTIN                      NaN   \n",
       "\n",
       "  SUPPLIER_SAMPLE_ID  \n",
       "2                NaN  \n",
       "3                NaN  \n",
       "4                NaN  \n",
       "5                NaN  "
      ]
     },
     "execution_count": 28,
     "metadata": {},
     "output_type": "execute_result"
    }
   ],
   "source": [
    "df.loc[2:5]"
   ]
  },
  {
   "cell_type": "code",
   "execution_count": 29,
   "metadata": {
    "collapsed": false
   },
   "outputs": [
    {
     "data": {
      "text/plain": [
       "2             CC(C)(C#N)c1cc(Cn2cncn2)cc(c1)C(C)(C)C#N\n",
       "3      Nc1nc(Cl)nc2n(cnc12)[C@H]3C[C@H](O)[C@@H](CO)O3\n",
       "4    CN1[C@H]2CCC[C@@H]1C[C@@H](C2)NC(=O)c3nn(C)c4c...\n",
       "5    C[C@@H]1O[C@@H](OC[C@H]2O[C@@H](Oc3c(oc4cc(O)c...\n",
       "Name: ISM, dtype: object"
      ]
     },
     "execution_count": 29,
     "metadata": {},
     "output_type": "execute_result"
    }
   ],
   "source": [
    "df.loc[2:5, \"ISM\"]"
   ]
  },
  {
   "cell_type": "code",
   "execution_count": 30,
   "metadata": {
    "collapsed": false
   },
   "outputs": [
    {
     "data": {
      "text/html": [
       "<div>\n",
       "<table border=\"1\" class=\"dataframe\">\n",
       "  <thead>\n",
       "    <tr style=\"text-align: right;\">\n",
       "      <th></th>\n",
       "      <th>NCC_SAMPLE_ID</th>\n",
       "      <th>ISM</th>\n",
       "      <th>NCC_STRUCTURE_ID</th>\n",
       "      <th>STRUCTURE_REAL_MF</th>\n",
       "      <th>STRUCTURE_REAL_AMW</th>\n",
       "      <th>PARENT_AMW</th>\n",
       "      <th>PARENT_EMW</th>\n",
       "      <th>SAMPLE_SUPPLIER</th>\n",
       "      <th>SUPPLIER_STRUCTURE_ID</th>\n",
       "      <th>PUBCHEM_SID</th>\n",
       "      <th>STRUCTURE_SYNONYMS</th>\n",
       "      <th>SUPPLIER_SAMPLE_COMMENTS</th>\n",
       "      <th>SUPPLIER_SAMPLE_ID</th>\n",
       "    </tr>\n",
       "  </thead>\n",
       "  <tbody>\n",
       "    <tr>\n",
       "      <th>1</th>\n",
       "      <td>MLS001246524</td>\n",
       "      <td>CCCN1CCCC[C@H]1C(=O)Nc2c(C)cccc2C.Cl</td>\n",
       "      <td>SMR000469137</td>\n",
       "      <td>C17H26N2O.HCl</td>\n",
       "      <td>310.8687</td>\n",
       "      <td>274.4078</td>\n",
       "      <td>274.2045</td>\n",
       "      <td>Sequoia Research Products Ltd.</td>\n",
       "      <td>SRP01307r</td>\n",
       "      <td>46386542</td>\n",
       "      <td>ROPIVACAINE HCl</td>\n",
       "      <td>NaN</td>\n",
       "      <td>NaN</td>\n",
       "    </tr>\n",
       "  </tbody>\n",
       "</table>\n",
       "</div>"
      ],
      "text/plain": [
       "  NCC_SAMPLE_ID                                   ISM NCC_STRUCTURE_ID  \\\n",
       "1  MLS001246524  CCCN1CCCC[C@H]1C(=O)Nc2c(C)cccc2C.Cl     SMR000469137   \n",
       "\n",
       "  STRUCTURE_REAL_MF  STRUCTURE_REAL_AMW  PARENT_AMW  PARENT_EMW  \\\n",
       "1     C17H26N2O.HCl            310.8687    274.4078    274.2045   \n",
       "\n",
       "                  SAMPLE_SUPPLIER SUPPLIER_STRUCTURE_ID  PUBCHEM_SID  \\\n",
       "1  Sequoia Research Products Ltd.             SRP01307r     46386542   \n",
       "\n",
       "  STRUCTURE_SYNONYMS SUPPLIER_SAMPLE_COMMENTS SUPPLIER_SAMPLE_ID  \n",
       "1    ROPIVACAINE HCl                      NaN                NaN  "
      ]
     },
     "execution_count": 30,
     "metadata": {},
     "output_type": "execute_result"
    }
   ],
   "source": [
    "df.loc[df.NCC_SAMPLE_ID == 'MLS001246524']"
   ]
  },
  {
   "cell_type": "markdown",
   "metadata": {},
   "source": [
    "# Slicing of the dataframe"
   ]
  },
  {
   "cell_type": "code",
   "execution_count": 81,
   "metadata": {
    "collapsed": false
   },
   "outputs": [
    {
     "data": {
      "text/html": [
       "<div>\n",
       "<table border=\"1\" class=\"dataframe\">\n",
       "  <thead>\n",
       "    <tr style=\"text-align: right;\">\n",
       "      <th></th>\n",
       "      <th>NCC_SAMPLE_ID</th>\n",
       "      <th>ISM</th>\n",
       "      <th>NCC_STRUCTURE_ID</th>\n",
       "      <th>STRUCTURE_REAL_MF</th>\n",
       "      <th>STRUCTURE_REAL_AMW</th>\n",
       "      <th>PARENT_AMW</th>\n",
       "      <th>PARENT_EMW</th>\n",
       "      <th>SAMPLE_SUPPLIER</th>\n",
       "      <th>SUPPLIER_STRUCTURE_ID</th>\n",
       "      <th>PUBCHEM_SID</th>\n",
       "      <th>STRUCTURE_SYNONYMS</th>\n",
       "      <th>SUPPLIER_SAMPLE_COMMENTS</th>\n",
       "      <th>SUPPLIER_SAMPLE_ID</th>\n",
       "    </tr>\n",
       "  </thead>\n",
       "  <tbody>\n",
       "    <tr>\n",
       "      <th>1</th>\n",
       "      <td>MLS001246524</td>\n",
       "      <td>CCCN1CCCC[C@H]1C(=O)Nc2c(C)cccc2C.Cl</td>\n",
       "      <td>SMR000469137</td>\n",
       "      <td>C17H26N2O.HCl</td>\n",
       "      <td>310.8687</td>\n",
       "      <td>274.4078</td>\n",
       "      <td>274.2045</td>\n",
       "      <td>Sequoia Research Products Ltd.</td>\n",
       "      <td>SRP01307r</td>\n",
       "      <td>46386542</td>\n",
       "      <td>ROPIVACAINE HCl</td>\n",
       "      <td>NaN</td>\n",
       "      <td>NaN</td>\n",
       "    </tr>\n",
       "  </tbody>\n",
       "</table>\n",
       "</div>"
      ],
      "text/plain": [
       "  NCC_SAMPLE_ID                                   ISM NCC_STRUCTURE_ID  \\\n",
       "1  MLS001246524  CCCN1CCCC[C@H]1C(=O)Nc2c(C)cccc2C.Cl     SMR000469137   \n",
       "\n",
       "  STRUCTURE_REAL_MF  STRUCTURE_REAL_AMW  PARENT_AMW  PARENT_EMW  \\\n",
       "1     C17H26N2O.HCl            310.8687    274.4078    274.2045   \n",
       "\n",
       "                  SAMPLE_SUPPLIER SUPPLIER_STRUCTURE_ID  PUBCHEM_SID  \\\n",
       "1  Sequoia Research Products Ltd.             SRP01307r     46386542   \n",
       "\n",
       "  STRUCTURE_SYNONYMS SUPPLIER_SAMPLE_COMMENTS SUPPLIER_SAMPLE_ID  \n",
       "1    ROPIVACAINE HCl                      NaN                NaN  "
      ]
     },
     "execution_count": 81,
     "metadata": {},
     "output_type": "execute_result"
    }
   ],
   "source": [
    "df[df.NCC_SAMPLE_ID == 'MLS001246524']"
   ]
  },
  {
   "cell_type": "code",
   "execution_count": 82,
   "metadata": {
    "collapsed": false
   },
   "outputs": [
    {
     "data": {
      "text/plain": [
       "NCC_SAMPLE_ID               87\n",
       "ISM                         87\n",
       "NCC_STRUCTURE_ID            87\n",
       "STRUCTURE_REAL_MF           87\n",
       "STRUCTURE_REAL_AMW          87\n",
       "PARENT_AMW                  87\n",
       "PARENT_EMW                  87\n",
       "SAMPLE_SUPPLIER             87\n",
       "SUPPLIER_STRUCTURE_ID       87\n",
       "PUBCHEM_SID                 87\n",
       "STRUCTURE_SYNONYMS          87\n",
       "SUPPLIER_SAMPLE_COMMENTS    21\n",
       "SUPPLIER_SAMPLE_ID          21\n",
       "dtype: int64"
      ]
     },
     "execution_count": 82,
     "metadata": {},
     "output_type": "execute_result"
    }
   ],
   "source": [
    "df[df.STRUCTURE_REAL_AMW > 500].count()"
   ]
  },
  {
   "cell_type": "code",
   "execution_count": 83,
   "metadata": {
    "collapsed": false
   },
   "outputs": [
    {
     "data": {
      "text/html": [
       "<div>\n",
       "<table border=\"1\" class=\"dataframe\">\n",
       "  <thead>\n",
       "    <tr style=\"text-align: right;\">\n",
       "      <th></th>\n",
       "      <th>NCC_SAMPLE_ID</th>\n",
       "      <th>ISM</th>\n",
       "      <th>NCC_STRUCTURE_ID</th>\n",
       "      <th>STRUCTURE_REAL_MF</th>\n",
       "      <th>STRUCTURE_REAL_AMW</th>\n",
       "      <th>PARENT_AMW</th>\n",
       "      <th>PARENT_EMW</th>\n",
       "      <th>SAMPLE_SUPPLIER</th>\n",
       "      <th>SUPPLIER_STRUCTURE_ID</th>\n",
       "      <th>PUBCHEM_SID</th>\n",
       "      <th>STRUCTURE_SYNONYMS</th>\n",
       "      <th>SUPPLIER_SAMPLE_COMMENTS</th>\n",
       "      <th>SUPPLIER_SAMPLE_ID</th>\n",
       "    </tr>\n",
       "  </thead>\n",
       "  <tbody>\n",
       "    <tr>\n",
       "      <th>5</th>\n",
       "      <td>MLS001246528</td>\n",
       "      <td>C[C@@H]1O[C@@H](OC[C@H]2O[C@@H](Oc3c(oc4cc(O)c...</td>\n",
       "      <td>SMR000112560</td>\n",
       "      <td>C27H30O16</td>\n",
       "      <td>610.5274</td>\n",
       "      <td>610.5274</td>\n",
       "      <td>610.1533</td>\n",
       "      <td>Sequoia Research Products Ltd.</td>\n",
       "      <td>SRP01350r</td>\n",
       "      <td>46386546</td>\n",
       "      <td>RUTIN</td>\n",
       "      <td>NaN</td>\n",
       "      <td>NaN</td>\n",
       "    </tr>\n",
       "    <tr>\n",
       "      <th>12</th>\n",
       "      <td>MLS001246538</td>\n",
       "      <td>COc1ccc2n([Mg]n3c(nc4cc(OC)ccc34)S(=O)Cc5ncc(C...</td>\n",
       "      <td>SMR000469280</td>\n",
       "      <td>C34H36MgN6O6S2</td>\n",
       "      <td>713.1236</td>\n",
       "      <td>713.1236</td>\n",
       "      <td>712.5187</td>\n",
       "      <td>Sequoia Research Products Ltd.</td>\n",
       "      <td>SRP01485e</td>\n",
       "      <td>46386556</td>\n",
       "      <td>ESOMEPRAZOLE Mg</td>\n",
       "      <td>NaN</td>\n",
       "      <td>NaN</td>\n",
       "    </tr>\n",
       "    <tr>\n",
       "      <th>32</th>\n",
       "      <td>MLS001246560</td>\n",
       "      <td>COc1ccc(cc1)c2oc3c(CC=C(C)C)c(O[C@@H]4O[C@H](C...</td>\n",
       "      <td>SMR000466309</td>\n",
       "      <td>C33H40O15</td>\n",
       "      <td>676.6740</td>\n",
       "      <td>676.6740</td>\n",
       "      <td>676.2367</td>\n",
       "      <td>Sequoia Research Products Ltd.</td>\n",
       "      <td>SRP00325i</td>\n",
       "      <td>46386578</td>\n",
       "      <td>ICARIIN</td>\n",
       "      <td>NaN</td>\n",
       "      <td>NaN</td>\n",
       "    </tr>\n",
       "    <tr>\n",
       "      <th>39</th>\n",
       "      <td>MLS001246568</td>\n",
       "      <td>CC[C@]1(O)C[C@H]2CN(C1)CCc3c([nH]c4ccccc34)[C@...</td>\n",
       "      <td>SMR000469153</td>\n",
       "      <td>C43H55N5O7.H2O4S</td>\n",
       "      <td>852.0208</td>\n",
       "      <td>753.9423</td>\n",
       "      <td>753.4101</td>\n",
       "      <td>Sequoia Research Products Ltd.</td>\n",
       "      <td>SRP01038v</td>\n",
       "      <td>46386586</td>\n",
       "      <td>VINDESINE SULFATE</td>\n",
       "      <td>NaN</td>\n",
       "      <td>NaN</td>\n",
       "    </tr>\n",
       "    <tr>\n",
       "      <th>40</th>\n",
       "      <td>MLS001246570</td>\n",
       "      <td>CC[C@]1(O)C[C@@H]2CN(C1)CCc3c([nH]c4ccccc34)[C...</td>\n",
       "      <td>SMR000058540</td>\n",
       "      <td>C46H56N4O10.H2O4S</td>\n",
       "      <td>923.0533</td>\n",
       "      <td>824.9748</td>\n",
       "      <td>824.3996</td>\n",
       "      <td>Sequoia Research Products Ltd.</td>\n",
       "      <td>SRP01037v</td>\n",
       "      <td>46386588</td>\n",
       "      <td>VINCRISTINE SULFATE</td>\n",
       "      <td>NaN</td>\n",
       "      <td>NaN</td>\n",
       "    </tr>\n",
       "  </tbody>\n",
       "</table>\n",
       "</div>"
      ],
      "text/plain": [
       "   NCC_SAMPLE_ID                                                ISM  \\\n",
       "5   MLS001246528  C[C@@H]1O[C@@H](OC[C@H]2O[C@@H](Oc3c(oc4cc(O)c...   \n",
       "12  MLS001246538  COc1ccc2n([Mg]n3c(nc4cc(OC)ccc34)S(=O)Cc5ncc(C...   \n",
       "32  MLS001246560  COc1ccc(cc1)c2oc3c(CC=C(C)C)c(O[C@@H]4O[C@H](C...   \n",
       "39  MLS001246568  CC[C@]1(O)C[C@H]2CN(C1)CCc3c([nH]c4ccccc34)[C@...   \n",
       "40  MLS001246570  CC[C@]1(O)C[C@@H]2CN(C1)CCc3c([nH]c4ccccc34)[C...   \n",
       "\n",
       "   NCC_STRUCTURE_ID  STRUCTURE_REAL_MF  STRUCTURE_REAL_AMW  PARENT_AMW  \\\n",
       "5      SMR000112560          C27H30O16            610.5274    610.5274   \n",
       "12     SMR000469280     C34H36MgN6O6S2            713.1236    713.1236   \n",
       "32     SMR000466309          C33H40O15            676.6740    676.6740   \n",
       "39     SMR000469153   C43H55N5O7.H2O4S            852.0208    753.9423   \n",
       "40     SMR000058540  C46H56N4O10.H2O4S            923.0533    824.9748   \n",
       "\n",
       "    PARENT_EMW                 SAMPLE_SUPPLIER SUPPLIER_STRUCTURE_ID  \\\n",
       "5     610.1533  Sequoia Research Products Ltd.             SRP01350r   \n",
       "12    712.5187  Sequoia Research Products Ltd.             SRP01485e   \n",
       "32    676.2367  Sequoia Research Products Ltd.             SRP00325i   \n",
       "39    753.4101  Sequoia Research Products Ltd.             SRP01038v   \n",
       "40    824.3996  Sequoia Research Products Ltd.             SRP01037v   \n",
       "\n",
       "    PUBCHEM_SID   STRUCTURE_SYNONYMS SUPPLIER_SAMPLE_COMMENTS  \\\n",
       "5      46386546                RUTIN                      NaN   \n",
       "12     46386556      ESOMEPRAZOLE Mg                      NaN   \n",
       "32     46386578              ICARIIN                      NaN   \n",
       "39     46386586    VINDESINE SULFATE                      NaN   \n",
       "40     46386588  VINCRISTINE SULFATE                      NaN   \n",
       "\n",
       "   SUPPLIER_SAMPLE_ID  \n",
       "5                 NaN  \n",
       "12                NaN  \n",
       "32                NaN  \n",
       "39                NaN  \n",
       "40                NaN  "
      ]
     },
     "execution_count": 83,
     "metadata": {},
     "output_type": "execute_result"
    }
   ],
   "source": [
    "bigDf = df[df.STRUCTURE_REAL_AMW > 600]\n",
    "bigDf.head()"
   ]
  },
  {
   "cell_type": "code",
   "execution_count": 84,
   "metadata": {
    "collapsed": false
   },
   "outputs": [
    {
     "data": {
      "text/html": [
       "<div>\n",
       "<table border=\"1\" class=\"dataframe\">\n",
       "  <thead>\n",
       "    <tr style=\"text-align: right;\">\n",
       "      <th></th>\n",
       "      <th>ISM</th>\n",
       "      <th>NCC_STRUCTURE_ID</th>\n",
       "      <th>STRUCTURE_REAL_MF</th>\n",
       "      <th>STRUCTURE_REAL_AMW</th>\n",
       "      <th>PARENT_AMW</th>\n",
       "      <th>PARENT_EMW</th>\n",
       "      <th>SAMPLE_SUPPLIER</th>\n",
       "      <th>SUPPLIER_STRUCTURE_ID</th>\n",
       "      <th>PUBCHEM_SID</th>\n",
       "      <th>STRUCTURE_SYNONYMS</th>\n",
       "      <th>SUPPLIER_SAMPLE_COMMENTS</th>\n",
       "      <th>SUPPLIER_SAMPLE_ID</th>\n",
       "    </tr>\n",
       "    <tr>\n",
       "      <th>NCC_SAMPLE_ID</th>\n",
       "      <th></th>\n",
       "      <th></th>\n",
       "      <th></th>\n",
       "      <th></th>\n",
       "      <th></th>\n",
       "      <th></th>\n",
       "      <th></th>\n",
       "      <th></th>\n",
       "      <th></th>\n",
       "      <th></th>\n",
       "      <th></th>\n",
       "      <th></th>\n",
       "    </tr>\n",
       "  </thead>\n",
       "  <tbody>\n",
       "    <tr>\n",
       "      <th>MLS001246528</th>\n",
       "      <td>C[C@@H]1O[C@@H](OC[C@H]2O[C@@H](Oc3c(oc4cc(O)c...</td>\n",
       "      <td>SMR000112560</td>\n",
       "      <td>C27H30O16</td>\n",
       "      <td>610.5274</td>\n",
       "      <td>610.5274</td>\n",
       "      <td>610.1533</td>\n",
       "      <td>Sequoia Research Products Ltd.</td>\n",
       "      <td>SRP01350r</td>\n",
       "      <td>46386546</td>\n",
       "      <td>RUTIN</td>\n",
       "      <td>NaN</td>\n",
       "      <td>NaN</td>\n",
       "    </tr>\n",
       "    <tr>\n",
       "      <th>MLS001246538</th>\n",
       "      <td>COc1ccc2n([Mg]n3c(nc4cc(OC)ccc34)S(=O)Cc5ncc(C...</td>\n",
       "      <td>SMR000469280</td>\n",
       "      <td>C34H36MgN6O6S2</td>\n",
       "      <td>713.1236</td>\n",
       "      <td>713.1236</td>\n",
       "      <td>712.5187</td>\n",
       "      <td>Sequoia Research Products Ltd.</td>\n",
       "      <td>SRP01485e</td>\n",
       "      <td>46386556</td>\n",
       "      <td>ESOMEPRAZOLE Mg</td>\n",
       "      <td>NaN</td>\n",
       "      <td>NaN</td>\n",
       "    </tr>\n",
       "    <tr>\n",
       "      <th>MLS001246560</th>\n",
       "      <td>COc1ccc(cc1)c2oc3c(CC=C(C)C)c(O[C@@H]4O[C@H](C...</td>\n",
       "      <td>SMR000466309</td>\n",
       "      <td>C33H40O15</td>\n",
       "      <td>676.6740</td>\n",
       "      <td>676.6740</td>\n",
       "      <td>676.2367</td>\n",
       "      <td>Sequoia Research Products Ltd.</td>\n",
       "      <td>SRP00325i</td>\n",
       "      <td>46386578</td>\n",
       "      <td>ICARIIN</td>\n",
       "      <td>NaN</td>\n",
       "      <td>NaN</td>\n",
       "    </tr>\n",
       "    <tr>\n",
       "      <th>MLS001246568</th>\n",
       "      <td>CC[C@]1(O)C[C@H]2CN(C1)CCc3c([nH]c4ccccc34)[C@...</td>\n",
       "      <td>SMR000469153</td>\n",
       "      <td>C43H55N5O7.H2O4S</td>\n",
       "      <td>852.0208</td>\n",
       "      <td>753.9423</td>\n",
       "      <td>753.4101</td>\n",
       "      <td>Sequoia Research Products Ltd.</td>\n",
       "      <td>SRP01038v</td>\n",
       "      <td>46386586</td>\n",
       "      <td>VINDESINE SULFATE</td>\n",
       "      <td>NaN</td>\n",
       "      <td>NaN</td>\n",
       "    </tr>\n",
       "    <tr>\n",
       "      <th>MLS001246570</th>\n",
       "      <td>CC[C@]1(O)C[C@@H]2CN(C1)CCc3c([nH]c4ccccc34)[C...</td>\n",
       "      <td>SMR000058540</td>\n",
       "      <td>C46H56N4O10.H2O4S</td>\n",
       "      <td>923.0533</td>\n",
       "      <td>824.9748</td>\n",
       "      <td>824.3996</td>\n",
       "      <td>Sequoia Research Products Ltd.</td>\n",
       "      <td>SRP01037v</td>\n",
       "      <td>46386588</td>\n",
       "      <td>VINCRISTINE SULFATE</td>\n",
       "      <td>NaN</td>\n",
       "      <td>NaN</td>\n",
       "    </tr>\n",
       "  </tbody>\n",
       "</table>\n",
       "</div>"
      ],
      "text/plain": [
       "                                                             ISM  \\\n",
       "NCC_SAMPLE_ID                                                      \n",
       "MLS001246528   C[C@@H]1O[C@@H](OC[C@H]2O[C@@H](Oc3c(oc4cc(O)c...   \n",
       "MLS001246538   COc1ccc2n([Mg]n3c(nc4cc(OC)ccc34)S(=O)Cc5ncc(C...   \n",
       "MLS001246560   COc1ccc(cc1)c2oc3c(CC=C(C)C)c(O[C@@H]4O[C@H](C...   \n",
       "MLS001246568   CC[C@]1(O)C[C@H]2CN(C1)CCc3c([nH]c4ccccc34)[C@...   \n",
       "MLS001246570   CC[C@]1(O)C[C@@H]2CN(C1)CCc3c([nH]c4ccccc34)[C...   \n",
       "\n",
       "              NCC_STRUCTURE_ID  STRUCTURE_REAL_MF  STRUCTURE_REAL_AMW  \\\n",
       "NCC_SAMPLE_ID                                                           \n",
       "MLS001246528      SMR000112560          C27H30O16            610.5274   \n",
       "MLS001246538      SMR000469280     C34H36MgN6O6S2            713.1236   \n",
       "MLS001246560      SMR000466309          C33H40O15            676.6740   \n",
       "MLS001246568      SMR000469153   C43H55N5O7.H2O4S            852.0208   \n",
       "MLS001246570      SMR000058540  C46H56N4O10.H2O4S            923.0533   \n",
       "\n",
       "               PARENT_AMW  PARENT_EMW                 SAMPLE_SUPPLIER  \\\n",
       "NCC_SAMPLE_ID                                                           \n",
       "MLS001246528     610.5274    610.1533  Sequoia Research Products Ltd.   \n",
       "MLS001246538     713.1236    712.5187  Sequoia Research Products Ltd.   \n",
       "MLS001246560     676.6740    676.2367  Sequoia Research Products Ltd.   \n",
       "MLS001246568     753.9423    753.4101  Sequoia Research Products Ltd.   \n",
       "MLS001246570     824.9748    824.3996  Sequoia Research Products Ltd.   \n",
       "\n",
       "              SUPPLIER_STRUCTURE_ID  PUBCHEM_SID   STRUCTURE_SYNONYMS  \\\n",
       "NCC_SAMPLE_ID                                                           \n",
       "MLS001246528              SRP01350r     46386546                RUTIN   \n",
       "MLS001246538              SRP01485e     46386556      ESOMEPRAZOLE Mg   \n",
       "MLS001246560              SRP00325i     46386578              ICARIIN   \n",
       "MLS001246568              SRP01038v     46386586    VINDESINE SULFATE   \n",
       "MLS001246570              SRP01037v     46386588  VINCRISTINE SULFATE   \n",
       "\n",
       "              SUPPLIER_SAMPLE_COMMENTS SUPPLIER_SAMPLE_ID  \n",
       "NCC_SAMPLE_ID                                              \n",
       "MLS001246528                       NaN                NaN  \n",
       "MLS001246538                       NaN                NaN  \n",
       "MLS001246560                       NaN                NaN  \n",
       "MLS001246568                       NaN                NaN  \n",
       "MLS001246570                       NaN                NaN  "
      ]
     },
     "execution_count": 84,
     "metadata": {},
     "output_type": "execute_result"
    }
   ],
   "source": [
    "bigDf = bigDf.set_index('NCC_SAMPLE_ID')\n",
    "bigDf.head()"
   ]
  },
  {
   "cell_type": "code",
   "execution_count": 37,
   "metadata": {
    "collapsed": true
   },
   "outputs": [],
   "source": [
    "bigDf.reset_index(level=0, inplace=True)"
   ]
  },
  {
   "cell_type": "code",
   "execution_count": 38,
   "metadata": {
    "collapsed": false
   },
   "outputs": [
    {
     "data": {
      "text/html": [
       "<div>\n",
       "<table border=\"1\" class=\"dataframe\">\n",
       "  <thead>\n",
       "    <tr style=\"text-align: right;\">\n",
       "      <th></th>\n",
       "      <th>NCC_SAMPLE_ID</th>\n",
       "      <th>ISM</th>\n",
       "      <th>NCC_STRUCTURE_ID</th>\n",
       "      <th>STRUCTURE_REAL_MF</th>\n",
       "      <th>STRUCTURE_REAL_AMW</th>\n",
       "      <th>PARENT_AMW</th>\n",
       "      <th>PARENT_EMW</th>\n",
       "      <th>SAMPLE_SUPPLIER</th>\n",
       "      <th>SUPPLIER_STRUCTURE_ID</th>\n",
       "      <th>PUBCHEM_SID</th>\n",
       "      <th>STRUCTURE_SYNONYMS</th>\n",
       "      <th>SUPPLIER_SAMPLE_COMMENTS</th>\n",
       "      <th>SUPPLIER_SAMPLE_ID</th>\n",
       "    </tr>\n",
       "  </thead>\n",
       "  <tbody>\n",
       "    <tr>\n",
       "      <th>0</th>\n",
       "      <td>MLS001246528</td>\n",
       "      <td>C[C@@H]1O[C@@H](OC[C@H]2O[C@@H](Oc3c(oc4cc(O)c...</td>\n",
       "      <td>SMR000112560</td>\n",
       "      <td>C27H30O16</td>\n",
       "      <td>610.5274</td>\n",
       "      <td>610.5274</td>\n",
       "      <td>610.1533</td>\n",
       "      <td>Sequoia Research Products Ltd.</td>\n",
       "      <td>SRP01350r</td>\n",
       "      <td>46386546</td>\n",
       "      <td>RUTIN</td>\n",
       "      <td>NaN</td>\n",
       "      <td>NaN</td>\n",
       "    </tr>\n",
       "    <tr>\n",
       "      <th>1</th>\n",
       "      <td>MLS001246538</td>\n",
       "      <td>COc1ccc2n([Mg]n3c(nc4cc(OC)ccc34)S(=O)Cc5ncc(C...</td>\n",
       "      <td>SMR000469280</td>\n",
       "      <td>C34H36MgN6O6S2</td>\n",
       "      <td>713.1236</td>\n",
       "      <td>713.1236</td>\n",
       "      <td>712.5187</td>\n",
       "      <td>Sequoia Research Products Ltd.</td>\n",
       "      <td>SRP01485e</td>\n",
       "      <td>46386556</td>\n",
       "      <td>ESOMEPRAZOLE Mg</td>\n",
       "      <td>NaN</td>\n",
       "      <td>NaN</td>\n",
       "    </tr>\n",
       "    <tr>\n",
       "      <th>2</th>\n",
       "      <td>MLS001246560</td>\n",
       "      <td>COc1ccc(cc1)c2oc3c(CC=C(C)C)c(O[C@@H]4O[C@H](C...</td>\n",
       "      <td>SMR000466309</td>\n",
       "      <td>C33H40O15</td>\n",
       "      <td>676.6740</td>\n",
       "      <td>676.6740</td>\n",
       "      <td>676.2367</td>\n",
       "      <td>Sequoia Research Products Ltd.</td>\n",
       "      <td>SRP00325i</td>\n",
       "      <td>46386578</td>\n",
       "      <td>ICARIIN</td>\n",
       "      <td>NaN</td>\n",
       "      <td>NaN</td>\n",
       "    </tr>\n",
       "    <tr>\n",
       "      <th>3</th>\n",
       "      <td>MLS001246568</td>\n",
       "      <td>CC[C@]1(O)C[C@H]2CN(C1)CCc3c([nH]c4ccccc34)[C@...</td>\n",
       "      <td>SMR000469153</td>\n",
       "      <td>C43H55N5O7.H2O4S</td>\n",
       "      <td>852.0208</td>\n",
       "      <td>753.9423</td>\n",
       "      <td>753.4101</td>\n",
       "      <td>Sequoia Research Products Ltd.</td>\n",
       "      <td>SRP01038v</td>\n",
       "      <td>46386586</td>\n",
       "      <td>VINDESINE SULFATE</td>\n",
       "      <td>NaN</td>\n",
       "      <td>NaN</td>\n",
       "    </tr>\n",
       "    <tr>\n",
       "      <th>4</th>\n",
       "      <td>MLS001246570</td>\n",
       "      <td>CC[C@]1(O)C[C@@H]2CN(C1)CCc3c([nH]c4ccccc34)[C...</td>\n",
       "      <td>SMR000058540</td>\n",
       "      <td>C46H56N4O10.H2O4S</td>\n",
       "      <td>923.0533</td>\n",
       "      <td>824.9748</td>\n",
       "      <td>824.3996</td>\n",
       "      <td>Sequoia Research Products Ltd.</td>\n",
       "      <td>SRP01037v</td>\n",
       "      <td>46386588</td>\n",
       "      <td>VINCRISTINE SULFATE</td>\n",
       "      <td>NaN</td>\n",
       "      <td>NaN</td>\n",
       "    </tr>\n",
       "  </tbody>\n",
       "</table>\n",
       "</div>"
      ],
      "text/plain": [
       "  NCC_SAMPLE_ID                                                ISM  \\\n",
       "0  MLS001246528  C[C@@H]1O[C@@H](OC[C@H]2O[C@@H](Oc3c(oc4cc(O)c...   \n",
       "1  MLS001246538  COc1ccc2n([Mg]n3c(nc4cc(OC)ccc34)S(=O)Cc5ncc(C...   \n",
       "2  MLS001246560  COc1ccc(cc1)c2oc3c(CC=C(C)C)c(O[C@@H]4O[C@H](C...   \n",
       "3  MLS001246568  CC[C@]1(O)C[C@H]2CN(C1)CCc3c([nH]c4ccccc34)[C@...   \n",
       "4  MLS001246570  CC[C@]1(O)C[C@@H]2CN(C1)CCc3c([nH]c4ccccc34)[C...   \n",
       "\n",
       "  NCC_STRUCTURE_ID  STRUCTURE_REAL_MF  STRUCTURE_REAL_AMW  PARENT_AMW  \\\n",
       "0     SMR000112560          C27H30O16            610.5274    610.5274   \n",
       "1     SMR000469280     C34H36MgN6O6S2            713.1236    713.1236   \n",
       "2     SMR000466309          C33H40O15            676.6740    676.6740   \n",
       "3     SMR000469153   C43H55N5O7.H2O4S            852.0208    753.9423   \n",
       "4     SMR000058540  C46H56N4O10.H2O4S            923.0533    824.9748   \n",
       "\n",
       "   PARENT_EMW                 SAMPLE_SUPPLIER SUPPLIER_STRUCTURE_ID  \\\n",
       "0    610.1533  Sequoia Research Products Ltd.             SRP01350r   \n",
       "1    712.5187  Sequoia Research Products Ltd.             SRP01485e   \n",
       "2    676.2367  Sequoia Research Products Ltd.             SRP00325i   \n",
       "3    753.4101  Sequoia Research Products Ltd.             SRP01038v   \n",
       "4    824.3996  Sequoia Research Products Ltd.             SRP01037v   \n",
       "\n",
       "   PUBCHEM_SID   STRUCTURE_SYNONYMS SUPPLIER_SAMPLE_COMMENTS  \\\n",
       "0     46386546                RUTIN                      NaN   \n",
       "1     46386556      ESOMEPRAZOLE Mg                      NaN   \n",
       "2     46386578              ICARIIN                      NaN   \n",
       "3     46386586    VINDESINE SULFATE                      NaN   \n",
       "4     46386588  VINCRISTINE SULFATE                      NaN   \n",
       "\n",
       "  SUPPLIER_SAMPLE_ID  \n",
       "0                NaN  \n",
       "1                NaN  \n",
       "2                NaN  \n",
       "3                NaN  \n",
       "4                NaN  "
      ]
     },
     "execution_count": 38,
     "metadata": {},
     "output_type": "execute_result"
    }
   ],
   "source": [
    "bigDf.head()"
   ]
  },
  {
   "cell_type": "code",
   "execution_count": 40,
   "metadata": {
    "collapsed": false
   },
   "outputs": [
    {
     "data": {
      "text/html": [
       "<div>\n",
       "<table border=\"1\" class=\"dataframe\">\n",
       "  <thead>\n",
       "    <tr style=\"text-align: right;\">\n",
       "      <th></th>\n",
       "      <th>ISM</th>\n",
       "      <th>NCC_SAMPLE_ID</th>\n",
       "    </tr>\n",
       "  </thead>\n",
       "  <tbody>\n",
       "    <tr>\n",
       "      <th>0</th>\n",
       "      <td>C[C@@H]1O[C@@H](OC[C@H]2O[C@@H](Oc3c(oc4cc(O)c...</td>\n",
       "      <td>MLS001246528</td>\n",
       "    </tr>\n",
       "    <tr>\n",
       "      <th>1</th>\n",
       "      <td>COc1ccc2n([Mg]n3c(nc4cc(OC)ccc34)S(=O)Cc5ncc(C...</td>\n",
       "      <td>MLS001246538</td>\n",
       "    </tr>\n",
       "    <tr>\n",
       "      <th>2</th>\n",
       "      <td>COc1ccc(cc1)c2oc3c(CC=C(C)C)c(O[C@@H]4O[C@H](C...</td>\n",
       "      <td>MLS001246560</td>\n",
       "    </tr>\n",
       "    <tr>\n",
       "      <th>3</th>\n",
       "      <td>CC[C@]1(O)C[C@H]2CN(C1)CCc3c([nH]c4ccccc34)[C@...</td>\n",
       "      <td>MLS001246568</td>\n",
       "    </tr>\n",
       "    <tr>\n",
       "      <th>4</th>\n",
       "      <td>CC[C@]1(O)C[C@@H]2CN(C1)CCc3c([nH]c4ccccc34)[C...</td>\n",
       "      <td>MLS001246570</td>\n",
       "    </tr>\n",
       "  </tbody>\n",
       "</table>\n",
       "</div>"
      ],
      "text/plain": [
       "                                                 ISM NCC_SAMPLE_ID\n",
       "0  C[C@@H]1O[C@@H](OC[C@H]2O[C@@H](Oc3c(oc4cc(O)c...  MLS001246528\n",
       "1  COc1ccc2n([Mg]n3c(nc4cc(OC)ccc34)S(=O)Cc5ncc(C...  MLS001246538\n",
       "2  COc1ccc(cc1)c2oc3c(CC=C(C)C)c(O[C@@H]4O[C@H](C...  MLS001246560\n",
       "3  CC[C@]1(O)C[C@H]2CN(C1)CCc3c([nH]c4ccccc34)[C@...  MLS001246568\n",
       "4  CC[C@]1(O)C[C@@H]2CN(C1)CCc3c([nH]c4ccccc34)[C...  MLS001246570"
      ]
     },
     "execution_count": 40,
     "metadata": {},
     "output_type": "execute_result"
    }
   ],
   "source": [
    "bigDf[[\"ISM\",\"NCC_SAMPLE_ID\"]].head()"
   ]
  },
  {
   "cell_type": "markdown",
   "metadata": {},
   "source": [
    "# Plotting from pandas"
   ]
  },
  {
   "cell_type": "code",
   "execution_count": 89,
   "metadata": {
    "collapsed": false
   },
   "outputs": [
    {
     "data": {
      "text/plain": [
       "<matplotlib.axes._subplots.AxesSubplot at 0x10ac9d4a8>"
      ]
     },
     "execution_count": 89,
     "metadata": {},
     "output_type": "execute_result"
    },
    {
     "data": {
      "image/png": "[encoded data removed]",
      "text/plain": [
       "<matplotlib.figure.Figure at 0x10ad649e8>"
      ]
     },
     "metadata": {},
     "output_type": "display_data"
    }
   ],
   "source": [
    "bigDf['STRUCTURE_REAL_AMW'].hist()"
   ]
  },
  {
   "cell_type": "code",
   "execution_count": 90,
   "metadata": {
    "collapsed": false,
    "scrolled": true
   },
   "outputs": [
    {
     "data": {
      "text/plain": [
       "<matplotlib.axes._subplots.AxesSubplot at 0x10ad903c8>"
      ]
     },
     "execution_count": 90,
     "metadata": {},
     "output_type": "execute_result"
    },
    {
     "data": {
      "image/png": "[encoded data removed]",
      "text/plain": [
       "<matplotlib.figure.Figure at 0x10ae81ac8>"
      ]
     },
     "metadata": {},
     "output_type": "display_data"
    }
   ],
   "source": [
    "df['STRUCTURE_REAL_AMW'].hist()"
   ]
  },
  {
   "cell_type": "code",
   "execution_count": 91,
   "metadata": {
    "collapsed": false
   },
   "outputs": [
    {
     "data": {
      "text/plain": [
       "<matplotlib.axes._subplots.AxesSubplot at 0x10af61ac8>"
      ]
     },
     "execution_count": 91,
     "metadata": {},
     "output_type": "execute_result"
    },
    {
     "data": {
      "image/png": "[encoded data removed]",
      "text/plain": [
       "<matplotlib.figure.Figure at 0x10ad67b38>"
      ]
     },
     "metadata": {},
     "output_type": "display_data"
    }
   ],
   "source": [
    "bigDf['STRUCTURE_REAL_AMW'].plot(c = 'g')"
   ]
  },
  {
   "cell_type": "code",
   "execution_count": 92,
   "metadata": {
    "collapsed": false
   },
   "outputs": [
    {
     "data": {
      "text/plain": [
       "<matplotlib.axes._subplots.AxesSubplot at 0x10b0d3f98>"
      ]
     },
     "execution_count": 92,
     "metadata": {},
     "output_type": "execute_result"
    },
    {
     "data": {
      "image/png": "[encoded data removed]",
      "text/plain": [
       "<matplotlib.figure.Figure at 0x10ad67cf8>"
      ]
     },
     "metadata": {},
     "output_type": "display_data"
    }
   ],
   "source": [
    "df['STRUCTURE_REAL_AMW'].plot()"
   ]
  },
  {
   "cell_type": "markdown",
   "metadata": {},
   "source": [
    "# Sorting\n"
   ]
  },
  {
   "cell_type": "code",
   "execution_count": 93,
   "metadata": {
    "collapsed": false
   },
   "outputs": [
    {
     "data": {
      "text/html": [
       "<div>\n",
       "<table border=\"1\" class=\"dataframe\">\n",
       "  <thead>\n",
       "    <tr style=\"text-align: right;\">\n",
       "      <th></th>\n",
       "      <th>NCC_SAMPLE_ID</th>\n",
       "      <th>ISM</th>\n",
       "      <th>NCC_STRUCTURE_ID</th>\n",
       "      <th>STRUCTURE_REAL_MF</th>\n",
       "      <th>STRUCTURE_REAL_AMW</th>\n",
       "      <th>PARENT_AMW</th>\n",
       "      <th>PARENT_EMW</th>\n",
       "      <th>SAMPLE_SUPPLIER</th>\n",
       "      <th>SUPPLIER_STRUCTURE_ID</th>\n",
       "      <th>PUBCHEM_SID</th>\n",
       "      <th>STRUCTURE_SYNONYMS</th>\n",
       "      <th>SUPPLIER_SAMPLE_COMMENTS</th>\n",
       "      <th>SUPPLIER_SAMPLE_ID</th>\n",
       "    </tr>\n",
       "  </thead>\n",
       "  <tbody>\n",
       "    <tr>\n",
       "      <th>364</th>\n",
       "      <td>MLS001247014</td>\n",
       "      <td>N[C@@H]1CONC1=O</td>\n",
       "      <td>SMR000058313</td>\n",
       "      <td>C3H6N2O2</td>\n",
       "      <td>102.0932</td>\n",
       "      <td>102.0932</td>\n",
       "      <td>102.0429</td>\n",
       "      <td>Tocris Bioscience</td>\n",
       "      <td>101840</td>\n",
       "      <td>46386864</td>\n",
       "      <td>D-CYCLOSERINE, 68-41-7</td>\n",
       "      <td>NaN</td>\n",
       "      <td>NaN</td>\n",
       "    </tr>\n",
       "    <tr>\n",
       "      <th>506</th>\n",
       "      <td>MLS002264599</td>\n",
       "      <td>N[C@@H]1CONC1=O</td>\n",
       "      <td>SMR000058313</td>\n",
       "      <td>C3H6N2O2</td>\n",
       "      <td>102.0932</td>\n",
       "      <td>102.0932</td>\n",
       "      <td>102.0429</td>\n",
       "      <td>LightBiologicals</td>\n",
       "      <td>C-3119</td>\n",
       "      <td>104170174</td>\n",
       "      <td>D-CYCLOSERINE, 68-41-7</td>\n",
       "      <td>.</td>\n",
       "      <td>.</td>\n",
       "    </tr>\n",
       "    <tr>\n",
       "      <th>301</th>\n",
       "      <td>MLS001246894</td>\n",
       "      <td>OCc1cccnc1</td>\n",
       "      <td>SMR000059086</td>\n",
       "      <td>C6H7NO</td>\n",
       "      <td>109.1281</td>\n",
       "      <td>109.1281</td>\n",
       "      <td>109.0527</td>\n",
       "      <td>Sigma Chemical Company</td>\n",
       "      <td>P66807</td>\n",
       "      <td>46386968</td>\n",
       "      <td>3-PYRIDINEMETHANOL, 100-55-0</td>\n",
       "      <td>NaN</td>\n",
       "      <td>NaN</td>\n",
       "    </tr>\n",
       "    <tr>\n",
       "      <th>367</th>\n",
       "      <td>MLS001247017</td>\n",
       "      <td>Oc1ncc(F)cn1</td>\n",
       "      <td>SMR000449315</td>\n",
       "      <td>C4H3FN2O</td>\n",
       "      <td>114.0792</td>\n",
       "      <td>114.0792</td>\n",
       "      <td>114.0229</td>\n",
       "      <td>Tocris Bioscience</td>\n",
       "      <td>101322</td>\n",
       "      <td>46386867</td>\n",
       "      <td>5-fluoro-2-pyrimidone</td>\n",
       "      <td>NaN</td>\n",
       "      <td>NaN</td>\n",
       "    </tr>\n",
       "    <tr>\n",
       "      <th>526</th>\n",
       "      <td>MLS002548951</td>\n",
       "      <td>Cn1ccnc1S</td>\n",
       "      <td>SMR000058376</td>\n",
       "      <td>C4H6N2S</td>\n",
       "      <td>114.1654</td>\n",
       "      <td>114.1654</td>\n",
       "      <td>114.0251</td>\n",
       "      <td>Enamine</td>\n",
       "      <td>39532476</td>\n",
       "      <td>104170134</td>\n",
       "      <td>Methimazole, 60-56-0</td>\n",
       "      <td>.</td>\n",
       "      <td>.</td>\n",
       "    </tr>\n",
       "  </tbody>\n",
       "</table>\n",
       "</div>"
      ],
      "text/plain": [
       "    NCC_SAMPLE_ID              ISM NCC_STRUCTURE_ID STRUCTURE_REAL_MF  \\\n",
       "364  MLS001247014  N[C@@H]1CONC1=O     SMR000058313          C3H6N2O2   \n",
       "506  MLS002264599  N[C@@H]1CONC1=O     SMR000058313          C3H6N2O2   \n",
       "301  MLS001246894       OCc1cccnc1     SMR000059086            C6H7NO   \n",
       "367  MLS001247017     Oc1ncc(F)cn1     SMR000449315          C4H3FN2O   \n",
       "526  MLS002548951        Cn1ccnc1S     SMR000058376           C4H6N2S   \n",
       "\n",
       "     STRUCTURE_REAL_AMW  PARENT_AMW  PARENT_EMW         SAMPLE_SUPPLIER  \\\n",
       "364            102.0932    102.0932    102.0429       Tocris Bioscience   \n",
       "506            102.0932    102.0932    102.0429        LightBiologicals   \n",
       "301            109.1281    109.1281    109.0527  Sigma Chemical Company   \n",
       "367            114.0792    114.0792    114.0229       Tocris Bioscience   \n",
       "526            114.1654    114.1654    114.0251                 Enamine   \n",
       "\n",
       "    SUPPLIER_STRUCTURE_ID  PUBCHEM_SID            STRUCTURE_SYNONYMS  \\\n",
       "364                101840     46386864        D-CYCLOSERINE, 68-41-7   \n",
       "506                C-3119    104170174        D-CYCLOSERINE, 68-41-7   \n",
       "301                P66807     46386968  3-PYRIDINEMETHANOL, 100-55-0   \n",
       "367                101322     46386867         5-fluoro-2-pyrimidone   \n",
       "526              39532476    104170134          Methimazole, 60-56-0   \n",
       "\n",
       "    SUPPLIER_SAMPLE_COMMENTS SUPPLIER_SAMPLE_ID  \n",
       "364                      NaN                NaN  \n",
       "506                        .                  .  \n",
       "301                      NaN                NaN  \n",
       "367                      NaN                NaN  \n",
       "526                        .                  .  "
      ]
     },
     "execution_count": 93,
     "metadata": {},
     "output_type": "execute_result"
    }
   ],
   "source": [
    "df.sort_values('STRUCTURE_REAL_AMW').head()"
   ]
  },
  {
   "cell_type": "code",
   "execution_count": 94,
   "metadata": {
    "collapsed": true
   },
   "outputs": [],
   "source": [
    "newDf = df.sort_values('STRUCTURE_REAL_AMW')"
   ]
  },
  {
   "cell_type": "code",
   "execution_count": 95,
   "metadata": {
    "collapsed": false,
    "scrolled": true
   },
   "outputs": [
    {
     "data": {
      "text/html": [
       "<div>\n",
       "<table border=\"1\" class=\"dataframe\">\n",
       "  <thead>\n",
       "    <tr style=\"text-align: right;\">\n",
       "      <th></th>\n",
       "      <th>NCC_SAMPLE_ID</th>\n",
       "      <th>ISM</th>\n",
       "      <th>NCC_STRUCTURE_ID</th>\n",
       "      <th>STRUCTURE_REAL_MF</th>\n",
       "      <th>STRUCTURE_REAL_AMW</th>\n",
       "      <th>PARENT_AMW</th>\n",
       "      <th>PARENT_EMW</th>\n",
       "      <th>SAMPLE_SUPPLIER</th>\n",
       "      <th>SUPPLIER_STRUCTURE_ID</th>\n",
       "      <th>PUBCHEM_SID</th>\n",
       "      <th>STRUCTURE_SYNONYMS</th>\n",
       "      <th>SUPPLIER_SAMPLE_COMMENTS</th>\n",
       "      <th>SUPPLIER_SAMPLE_ID</th>\n",
       "    </tr>\n",
       "  </thead>\n",
       "  <tbody>\n",
       "    <tr>\n",
       "      <th>364</th>\n",
       "      <td>MLS001247014</td>\n",
       "      <td>N[C@@H]1CONC1=O</td>\n",
       "      <td>SMR000058313</td>\n",
       "      <td>C3H6N2O2</td>\n",
       "      <td>102.0932</td>\n",
       "      <td>102.0932</td>\n",
       "      <td>102.0429</td>\n",
       "      <td>Tocris Bioscience</td>\n",
       "      <td>101840</td>\n",
       "      <td>46386864</td>\n",
       "      <td>D-CYCLOSERINE, 68-41-7</td>\n",
       "      <td>NaN</td>\n",
       "      <td>NaN</td>\n",
       "    </tr>\n",
       "    <tr>\n",
       "      <th>506</th>\n",
       "      <td>MLS002264599</td>\n",
       "      <td>N[C@@H]1CONC1=O</td>\n",
       "      <td>SMR000058313</td>\n",
       "      <td>C3H6N2O2</td>\n",
       "      <td>102.0932</td>\n",
       "      <td>102.0932</td>\n",
       "      <td>102.0429</td>\n",
       "      <td>LightBiologicals</td>\n",
       "      <td>C-3119</td>\n",
       "      <td>104170174</td>\n",
       "      <td>D-CYCLOSERINE, 68-41-7</td>\n",
       "      <td>.</td>\n",
       "      <td>.</td>\n",
       "    </tr>\n",
       "    <tr>\n",
       "      <th>301</th>\n",
       "      <td>MLS001246894</td>\n",
       "      <td>OCc1cccnc1</td>\n",
       "      <td>SMR000059086</td>\n",
       "      <td>C6H7NO</td>\n",
       "      <td>109.1281</td>\n",
       "      <td>109.1281</td>\n",
       "      <td>109.0527</td>\n",
       "      <td>Sigma Chemical Company</td>\n",
       "      <td>P66807</td>\n",
       "      <td>46386968</td>\n",
       "      <td>3-PYRIDINEMETHANOL, 100-55-0</td>\n",
       "      <td>NaN</td>\n",
       "      <td>NaN</td>\n",
       "    </tr>\n",
       "    <tr>\n",
       "      <th>367</th>\n",
       "      <td>MLS001247017</td>\n",
       "      <td>Oc1ncc(F)cn1</td>\n",
       "      <td>SMR000449315</td>\n",
       "      <td>C4H3FN2O</td>\n",
       "      <td>114.0792</td>\n",
       "      <td>114.0792</td>\n",
       "      <td>114.0229</td>\n",
       "      <td>Tocris Bioscience</td>\n",
       "      <td>101322</td>\n",
       "      <td>46386867</td>\n",
       "      <td>5-fluoro-2-pyrimidone</td>\n",
       "      <td>NaN</td>\n",
       "      <td>NaN</td>\n",
       "    </tr>\n",
       "    <tr>\n",
       "      <th>526</th>\n",
       "      <td>MLS002548951</td>\n",
       "      <td>Cn1ccnc1S</td>\n",
       "      <td>SMR000058376</td>\n",
       "      <td>C4H6N2S</td>\n",
       "      <td>114.1654</td>\n",
       "      <td>114.1654</td>\n",
       "      <td>114.0251</td>\n",
       "      <td>Enamine</td>\n",
       "      <td>39532476</td>\n",
       "      <td>104170134</td>\n",
       "      <td>Methimazole, 60-56-0</td>\n",
       "      <td>.</td>\n",
       "      <td>.</td>\n",
       "    </tr>\n",
       "  </tbody>\n",
       "</table>\n",
       "</div>"
      ],
      "text/plain": [
       "    NCC_SAMPLE_ID              ISM NCC_STRUCTURE_ID STRUCTURE_REAL_MF  \\\n",
       "364  MLS001247014  N[C@@H]1CONC1=O     SMR000058313          C3H6N2O2   \n",
       "506  MLS002264599  N[C@@H]1CONC1=O     SMR000058313          C3H6N2O2   \n",
       "301  MLS001246894       OCc1cccnc1     SMR000059086            C6H7NO   \n",
       "367  MLS001247017     Oc1ncc(F)cn1     SMR000449315          C4H3FN2O   \n",
       "526  MLS002548951        Cn1ccnc1S     SMR000058376           C4H6N2S   \n",
       "\n",
       "     STRUCTURE_REAL_AMW  PARENT_AMW  PARENT_EMW         SAMPLE_SUPPLIER  \\\n",
       "364            102.0932    102.0932    102.0429       Tocris Bioscience   \n",
       "506            102.0932    102.0932    102.0429        LightBiologicals   \n",
       "301            109.1281    109.1281    109.0527  Sigma Chemical Company   \n",
       "367            114.0792    114.0792    114.0229       Tocris Bioscience   \n",
       "526            114.1654    114.1654    114.0251                 Enamine   \n",
       "\n",
       "    SUPPLIER_STRUCTURE_ID  PUBCHEM_SID            STRUCTURE_SYNONYMS  \\\n",
       "364                101840     46386864        D-CYCLOSERINE, 68-41-7   \n",
       "506                C-3119    104170174        D-CYCLOSERINE, 68-41-7   \n",
       "301                P66807     46386968  3-PYRIDINEMETHANOL, 100-55-0   \n",
       "367                101322     46386867         5-fluoro-2-pyrimidone   \n",
       "526              39532476    104170134          Methimazole, 60-56-0   \n",
       "\n",
       "    SUPPLIER_SAMPLE_COMMENTS SUPPLIER_SAMPLE_ID  \n",
       "364                      NaN                NaN  \n",
       "506                        .                  .  \n",
       "301                      NaN                NaN  \n",
       "367                      NaN                NaN  \n",
       "526                        .                  .  "
      ]
     },
     "execution_count": 95,
     "metadata": {},
     "output_type": "execute_result"
    }
   ],
   "source": [
    "newDf.head()"
   ]
  },
  {
   "cell_type": "markdown",
   "metadata": {},
   "source": [
    "# Real task\n",
    "Is there any overlap between the NIH drug collection and FDA-approved drug list? "
   ]
  },
  {
   "cell_type": "code",
   "execution_count": 97,
   "metadata": {
    "collapsed": false
   },
   "outputs": [],
   "source": [
    "FDA_FileName = 'L1300-Selleck-FDA-Approved-Drug-Library-1018cpds.xlsx'"
   ]
  },
  {
   "cell_type": "code",
   "execution_count": 98,
   "metadata": {
    "collapsed": true
   },
   "outputs": [],
   "source": [
    "xl_FDA = pd.ExcelFile(FDA_FileName)"
   ]
  },
  {
   "cell_type": "code",
   "execution_count": 99,
   "metadata": {
    "collapsed": false
   },
   "outputs": [
    {
     "data": {
      "text/plain": [
       "['General Information', 'Chemical Data-1018cpds']"
      ]
     },
     "execution_count": 99,
     "metadata": {},
     "output_type": "execute_result"
    }
   ],
   "source": [
    "xl_FDA.sheet_names\n"
   ]
  },
  {
   "cell_type": "code",
   "execution_count": 100,
   "metadata": {
    "collapsed": true
   },
   "outputs": [],
   "source": [
    "dfFDA = xl_FDA.parse('Chemical Data-1018cpds')"
   ]
  },
  {
   "cell_type": "code",
   "execution_count": 101,
   "metadata": {
    "collapsed": false
   },
   "outputs": [
    {
     "data": {
      "text/html": [
       "<div>\n",
       "<table border=\"1\" class=\"dataframe\">\n",
       "  <thead>\n",
       "    <tr style=\"text-align: right;\">\n",
       "      <th></th>\n",
       "      <th>CatalogNumber</th>\n",
       "      <th>Item Name</th>\n",
       "      <th>Plate Location</th>\n",
       "      <th>Rack Number</th>\n",
       "      <th>M.w.</th>\n",
       "      <th>CAS Number</th>\n",
       "      <th>Indication</th>\n",
       "      <th>Target</th>\n",
       "      <th>Brief Description</th>\n",
       "      <th>Smiles</th>\n",
       "    </tr>\n",
       "  </thead>\n",
       "  <tbody>\n",
       "    <tr>\n",
       "      <th>0</th>\n",
       "      <td>S1005</td>\n",
       "      <td>Axitinib</td>\n",
       "      <td>a1</td>\n",
       "      <td>L1300-01</td>\n",
       "      <td>386.47</td>\n",
       "      <td>319460-85-0</td>\n",
       "      <td>Cancer</td>\n",
       "      <td>VEGFR, PDGFR, c-Kit</td>\n",
       "      <td>Axitinib blocked phosphorylation of VEGFR-2 an...</td>\n",
       "      <td>C1(=CC=CC=C1C(=O)NC)SC2=CC3=C(C=C2)C(=NN3)/C=C...</td>\n",
       "    </tr>\n",
       "    <tr>\n",
       "      <th>1</th>\n",
       "      <td>S1011</td>\n",
       "      <td>Afatinib (BIBW2992)</td>\n",
       "      <td>b1</td>\n",
       "      <td>L1300-01</td>\n",
       "      <td>485.94</td>\n",
       "      <td>439081-18-2</td>\n",
       "      <td>Cancer</td>\n",
       "      <td>EGFR, HER2</td>\n",
       "      <td>Afatinib (BIBW2992) irreversibly inhibits EGFR...</td>\n",
       "      <td>C1(=C(C=C(C=C1)NC2=NC=NC3=C2C=C(C(=C3)O[C@H]4C...</td>\n",
       "    </tr>\n",
       "    <tr>\n",
       "      <th>2</th>\n",
       "      <td>S1013</td>\n",
       "      <td>Bortezomib (Velcade)</td>\n",
       "      <td>c1</td>\n",
       "      <td>L1300-01</td>\n",
       "      <td>384.24</td>\n",
       "      <td>179324-69-7</td>\n",
       "      <td>Cancer</td>\n",
       "      <td>Proteasome</td>\n",
       "      <td>Bortezomib also known as Velcade, MG-341, PS-3...</td>\n",
       "      <td>C1=CN=CC(=N1)C(N[C@H](C(N[C@H](B(O)O)CC(C)C)=O...</td>\n",
       "    </tr>\n",
       "    <tr>\n",
       "      <th>3</th>\n",
       "      <td>S1014</td>\n",
       "      <td>Bosutinib (SKI-606)</td>\n",
       "      <td>d1</td>\n",
       "      <td>L1300-01</td>\n",
       "      <td>530.45</td>\n",
       "      <td>380843-75-4</td>\n",
       "      <td>Cancer</td>\n",
       "      <td>Src,Abl\\n</td>\n",
       "      <td>Bosutinib (SKI-606) is a novel, dual Src/Abl i...</td>\n",
       "      <td>N1=CC(=C(C2=CC(=C(C=C12)OCCCN3CCN(CC3)C)OC)NC4...</td>\n",
       "    </tr>\n",
       "    <tr>\n",
       "      <th>4</th>\n",
       "      <td>S1021</td>\n",
       "      <td>Dasatinib (BMS-354825)</td>\n",
       "      <td>e1</td>\n",
       "      <td>L1300-01</td>\n",
       "      <td>488.01</td>\n",
       "      <td>302962-49-8</td>\n",
       "      <td>Cancer</td>\n",
       "      <td>Src, Bcr-Abl, c-Kit</td>\n",
       "      <td>Dasatinib also known as BMS-354825, Sprycel, B...</td>\n",
       "      <td>N1=C(N=C(C=C1NC2=NC=C(S2)C(NC3=C(C=CC=C3C)Cl)=...</td>\n",
       "    </tr>\n",
       "  </tbody>\n",
       "</table>\n",
       "</div>"
      ],
      "text/plain": [
       "  CatalogNumber               Item Name Plate Location Rack Number    M.w.  \\\n",
       "0         S1005                Axitinib             a1    L1300-01  386.47   \n",
       "1         S1011     Afatinib (BIBW2992)             b1    L1300-01  485.94   \n",
       "2         S1013    Bortezomib (Velcade)             c1    L1300-01  384.24   \n",
       "3         S1014     Bosutinib (SKI-606)             d1    L1300-01  530.45   \n",
       "4         S1021  Dasatinib (BMS-354825)             e1    L1300-01  488.01   \n",
       "\n",
       "    CAS Number Indication               Target  \\\n",
       "0  319460-85-0     Cancer  VEGFR, PDGFR, c-Kit   \n",
       "1  439081-18-2     Cancer           EGFR, HER2   \n",
       "2  179324-69-7     Cancer           Proteasome   \n",
       "3  380843-75-4     Cancer            Src,Abl\\n   \n",
       "4  302962-49-8     Cancer  Src, Bcr-Abl, c-Kit   \n",
       "\n",
       "                                   Brief Description  \\\n",
       "0  Axitinib blocked phosphorylation of VEGFR-2 an...   \n",
       "1  Afatinib (BIBW2992) irreversibly inhibits EGFR...   \n",
       "2  Bortezomib also known as Velcade, MG-341, PS-3...   \n",
       "3  Bosutinib (SKI-606) is a novel, dual Src/Abl i...   \n",
       "4  Dasatinib also known as BMS-354825, Sprycel, B...   \n",
       "\n",
       "                                              Smiles  \n",
       "0  C1(=CC=CC=C1C(=O)NC)SC2=CC3=C(C=C2)C(=NN3)/C=C...  \n",
       "1  C1(=C(C=C(C=C1)NC2=NC=NC3=C2C=C(C(=C3)O[C@H]4C...  \n",
       "2  C1=CN=CC(=N1)C(N[C@H](C(N[C@H](B(O)O)CC(C)C)=O...  \n",
       "3  N1=CC(=C(C2=CC(=C(C=C12)OCCCN3CCN(CC3)C)OC)NC4...  \n",
       "4  N1=C(N=C(C=C1NC2=NC=C(S2)C(NC3=C(C=CC=C3C)Cl)=...  "
      ]
     },
     "execution_count": 101,
     "metadata": {},
     "output_type": "execute_result"
    }
   ],
   "source": [
    "dfFDA.head()"
   ]
  },
  {
   "cell_type": "code",
   "execution_count": 104,
   "metadata": {
    "collapsed": false
   },
   "outputs": [
    {
     "data": {
      "text/plain": [
       "1018"
      ]
     },
     "execution_count": 104,
     "metadata": {},
     "output_type": "execute_result"
    }
   ],
   "source": [
    "len(dfFDA)"
   ]
  },
  {
   "cell_type": "code",
   "execution_count": 102,
   "metadata": {
    "collapsed": false
   },
   "outputs": [
    {
     "data": {
      "text/html": [
       "<div>\n",
       "<table border=\"1\" class=\"dataframe\">\n",
       "  <thead>\n",
       "    <tr style=\"text-align: right;\">\n",
       "      <th></th>\n",
       "      <th>CatalogNumber</th>\n",
       "      <th>Item Name</th>\n",
       "      <th>Plate Location</th>\n",
       "      <th>Rack Number</th>\n",
       "      <th>M.w.</th>\n",
       "      <th>CAS Number</th>\n",
       "      <th>Indication</th>\n",
       "      <th>Target</th>\n",
       "      <th>Brief Description</th>\n",
       "      <th>Smiles</th>\n",
       "    </tr>\n",
       "  </thead>\n",
       "  <tbody>\n",
       "  </tbody>\n",
       "</table>\n",
       "</div>"
      ],
      "text/plain": [
       "Empty DataFrame\n",
       "Columns: [CatalogNumber, Item Name, Plate Location, Rack Number, M.w., CAS Number, Indication, Target, Brief Description, Smiles]\n",
       "Index: []"
      ]
     },
     "execution_count": 102,
     "metadata": {},
     "output_type": "execute_result"
    }
   ],
   "source": [
    "dfFDA[dfFDA.Smiles == \"Cc1cn([C@@H]2O[C@H](CO)C=C2)c(=O)[nH]c1=O\"]\n"
   ]
  },
  {
   "cell_type": "markdown",
   "metadata": {},
   "source": [
    "Identfy overlaps between these two libraries, utilizing smiles as a key. "
   ]
  },
  {
   "cell_type": "code",
   "execution_count": 103,
   "metadata": {
    "collapsed": false
   },
   "outputs": [
    {
     "name": "stdout",
     "output_type": "stream",
     "text": [
      "0\n"
     ]
    }
   ],
   "source": [
    "counter = 0\n",
    "for item in df.ISM:\n",
    "    if not dfFDA[dfFDA.Smiles == item].empty :\n",
    "        print (dfFDA[dfFDA.Smiles == item])\n",
    "        print (item)\n",
    "        counter +=1\n",
    "print (counter)"
   ]
  }
 ],
 "metadata": {
  "kernelspec": {
   "display_name": "Python 3",
   "language": "python",
   "name": "python3"
  },
  "language_info": {
   "codemirror_mode": {
    "name": "ipython",
    "version": 3
   },
   "file_extension": ".py",
   "mimetype": "text/x-python",
   "name": "python",
   "nbconvert_exporter": "python",
   "pygments_lexer": "ipython3",
   "version": "3.4.3"
  }
 },
 "nbformat": 4,
 "nbformat_minor": 0
}
